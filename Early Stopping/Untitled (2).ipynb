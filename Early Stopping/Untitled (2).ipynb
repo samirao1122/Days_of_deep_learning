{
 "cells": [
  {
   "cell_type": "code",
   "execution_count": 350,
   "id": "dfc25cd6-0a64-4f18-82cc-7b9b18c62a68",
   "metadata": {
    "id": "dfc25cd6-0a64-4f18-82cc-7b9b18c62a68"
   },
   "outputs": [],
   "source": [
    "import pandas as pd\n"
   ]
  },
  {
   "cell_type": "code",
   "execution_count": 351,
   "id": "2a0621c5-2180-48bf-b66e-738c7181a868",
   "metadata": {
    "id": "2a0621c5-2180-48bf-b66e-738c7181a868"
   },
   "outputs": [],
   "source": [
    "dataset=pd.read_csv(\"/content/model.csv\")"
   ]
  },
  {
   "cell_type": "code",
   "execution_count": 352,
   "id": "1f364b2c-c213-4983-88db-0226b4790467",
   "metadata": {
    "colab": {
     "base_uri": "https://localhost:8080/",
     "height": 254
    },
    "id": "1f364b2c-c213-4983-88db-0226b4790467",
    "outputId": "35dcd352-c99e-4461-f8e5-47b53de4f546"
   },
   "outputs": [
    {
     "data": {
      "application/vnd.google.colaboratory.intrinsic+json": {
       "summary": "{\n  \"name\": \"dataset\",\n  \"rows\": 49992,\n  \"fields\": [\n    {\n      \"column\": \"Unnamed: 0\",\n      \"properties\": {\n        \"dtype\": \"number\",\n        \"std\": 14431,\n        \"min\": 0,\n        \"max\": 49999,\n        \"num_unique_values\": 49992,\n        \"samples\": [\n          43681,\n          34683,\n          20755\n        ],\n        \"semantic_type\": \"\",\n        \"description\": \"\"\n      }\n    },\n    {\n      \"column\": \"description\",\n      \"properties\": {\n        \"dtype\": \"string\",\n        \"num_unique_values\": 45536,\n        \"samples\": [\n          \"[ 0.55854285  1.295318   -2.4712114  -2.1239603   1.6950488  -0.2919672\\n -0.9383098   0.45471436 -0.17636055  1.0977901 ]\",\n          \"[ 0.52423316  2.2444193  -2.716103   -2.2815993   1.0945736   0.01939103\\n -1.4665862   1.084908    0.0930655   1.5794295 ]\",\n          \"[ 0.78083557  1.86178    -2.5524046  -1.9726472   1.3920759   0.33874583\\n -1.6151727   0.5334074   0.2697753   1.4617015 ]\"\n        ],\n        \"semantic_type\": \"\",\n        \"description\": \"\"\n      }\n    },\n    {\n      \"column\": \"property_type\",\n      \"properties\": {\n        \"dtype\": \"category\",\n        \"num_unique_values\": 265,\n        \"samples\": [\n          \"[ 0.31800786  0.35658976 -0.042906   -0.65510595  0.32899004  0.08894221\\n  0.08386928  1.4097437  -0.49081635 -0.97488827]\",\n          \"[-1.0414295  -0.6565646  -1.2239807  -2.5897799  -0.5989879  -0.51798004\\n -1.6938275  -1.8024956  -2.1756845   0.26850992]\",\n          \"[-1.3429109  -0.8396049   0.63388276  0.18974528  0.50111985  0.34039035\\n -0.2072388  -0.8595025  -1.8432667  -0.85731024]\"\n        ],\n        \"semantic_type\": \"\",\n        \"description\": \"\"\n      }\n    },\n    {\n      \"column\": \"id\",\n      \"properties\": {\n        \"dtype\": \"number\",\n        \"std\": 108379.84773590042,\n        \"min\": 2567727.0,\n        \"max\": 4613353.0,\n        \"num_unique_values\": 49294,\n        \"samples\": [\n          4181607.0,\n          4242138.0,\n          4070478.0\n        ],\n        \"semantic_type\": \"\",\n        \"description\": \"\"\n      }\n    },\n    {\n      \"column\": \"postal_code\",\n      \"properties\": {\n        \"dtype\": \"number\",\n        \"std\": 24.499417456628294,\n        \"min\": 10.0,\n        \"max\": 99.0,\n        \"num_unique_values\": 90,\n        \"samples\": [\n          65.0,\n          33.0,\n          89.0\n        ],\n        \"semantic_type\": \"\",\n        \"description\": \"\"\n      }\n    },\n    {\n      \"column\": \"price\",\n      \"properties\": {\n        \"dtype\": \"number\",\n        \"std\": 191428.64436787975,\n        \"min\": 215.0,\n        \"max\": 6200000.0,\n        \"num_unique_values\": 2103,\n        \"samples\": [\n          1798000.0,\n          786000.0,\n          415800.0\n        ],\n        \"semantic_type\": \"\",\n        \"description\": \"\"\n      }\n    },\n    {\n      \"column\": \"category\",\n      \"properties\": {\n        \"dtype\": \"number\",\n        \"std\": 0.4444840118578529,\n        \"min\": 0.0,\n        \"max\": 1.0,\n        \"num_unique_values\": 2,\n        \"samples\": [\n          0.0,\n          1.0\n        ],\n        \"semantic_type\": \"\",\n        \"description\": \"\"\n      }\n    },\n    {\n      \"column\": \"year_built\",\n      \"properties\": {\n        \"dtype\": \"number\",\n        \"std\": 38.52041833330667,\n        \"min\": 1005.0,\n        \"max\": 2109.0,\n        \"num_unique_values\": 291,\n        \"samples\": [\n          2015.0,\n          1730.0\n        ],\n        \"semantic_type\": \"\",\n        \"description\": \"\"\n      }\n    },\n    {\n      \"column\": \"garden\",\n      \"properties\": {\n        \"dtype\": \"number\",\n        \"std\": 0.458728210720702,\n        \"min\": 0.0,\n        \"max\": 1.0,\n        \"num_unique_values\": 2,\n        \"samples\": [\n          0.0,\n          1.0\n        ],\n        \"semantic_type\": \"\",\n        \"description\": \"\"\n      }\n    },\n    {\n      \"column\": \"plot_area\",\n      \"properties\": {\n        \"dtype\": \"number\",\n        \"std\": 2889.321728170401,\n        \"min\": 10.0,\n        \"max\": 312195.0,\n        \"num_unique_values\": 2380,\n        \"samples\": [\n          24360.0,\n          5875.0\n        ],\n        \"semantic_type\": \"\",\n        \"description\": \"\"\n      }\n    },\n    {\n      \"column\": \"num_rooms\",\n      \"properties\": {\n        \"dtype\": \"number\",\n        \"std\": 1.5859305215170283,\n        \"min\": 1.0,\n        \"max\": 41.0,\n        \"num_unique_values\": 24,\n        \"samples\": [\n          13.0,\n          21.0\n        ],\n        \"semantic_type\": \"\",\n        \"description\": \"\"\n      }\n    },\n    {\n      \"column\": \"num_bathrooms\",\n      \"properties\": {\n        \"dtype\": \"number\",\n        \"std\": 0.28241386907322996,\n        \"min\": 1.0,\n        \"max\": 6.0,\n        \"num_unique_values\": 6,\n        \"samples\": [\n          1.0,\n          2.0\n        ],\n        \"semantic_type\": \"\",\n        \"description\": \"\"\n      }\n    },\n    {\n      \"column\": \"energy_label\",\n      \"properties\": {\n        \"dtype\": \"number\",\n        \"std\": 1.0774295527901692,\n        \"min\": 0.0,\n        \"max\": 11.0,\n        \"num_unique_values\": 12,\n        \"samples\": [\n          1.0,\n          4.0\n        ],\n        \"semantic_type\": \"\",\n        \"description\": \"\"\n      }\n    },\n    {\n      \"column\": \"surface_area\",\n      \"properties\": {\n        \"dtype\": \"number\",\n        \"std\": 50.1564297237861,\n        \"min\": 1.0,\n        \"max\": 1977.0,\n        \"num_unique_values\": 472,\n        \"samples\": [\n          247.0,\n          98.0\n        ],\n        \"semantic_type\": \"\",\n        \"description\": \"\"\n      }\n    },\n    {\n      \"column\": \"listing_year\",\n      \"properties\": {\n        \"dtype\": \"number\",\n        \"std\": 0.0,\n        \"min\": 2018.0,\n        \"max\": 2018.0,\n        \"num_unique_values\": 1,\n        \"samples\": [\n          2018.0\n        ],\n        \"semantic_type\": \"\",\n        \"description\": \"\"\n      }\n    },\n    {\n      \"column\": \"construction_year\",\n      \"properties\": {\n        \"dtype\": \"number\",\n        \"std\": 0.2465401230759817,\n        \"min\": 2016.0,\n        \"max\": 2019.0,\n        \"num_unique_values\": 4,\n        \"samples\": [\n          2019.0\n        ],\n        \"semantic_type\": \"\",\n        \"description\": \"\"\n      }\n    }\n  ]\n}",
       "type": "dataframe",
       "variable_name": "dataset"
      },
      "text/html": [
       "\n",
       "  <div id=\"df-69ebc796-050d-44e7-b69a-4f8b7f162943\" class=\"colab-df-container\">\n",
       "    <div>\n",
       "<style scoped>\n",
       "    .dataframe tbody tr th:only-of-type {\n",
       "        vertical-align: middle;\n",
       "    }\n",
       "\n",
       "    .dataframe tbody tr th {\n",
       "        vertical-align: top;\n",
       "    }\n",
       "\n",
       "    .dataframe thead th {\n",
       "        text-align: right;\n",
       "    }\n",
       "</style>\n",
       "<table border=\"1\" class=\"dataframe\">\n",
       "  <thead>\n",
       "    <tr style=\"text-align: right;\">\n",
       "      <th></th>\n",
       "      <th>Unnamed: 0</th>\n",
       "      <th>description</th>\n",
       "      <th>property_type</th>\n",
       "      <th>id</th>\n",
       "      <th>postal_code</th>\n",
       "      <th>price</th>\n",
       "      <th>category</th>\n",
       "      <th>year_built</th>\n",
       "      <th>garden</th>\n",
       "      <th>plot_area</th>\n",
       "      <th>num_rooms</th>\n",
       "      <th>num_bathrooms</th>\n",
       "      <th>energy_label</th>\n",
       "      <th>surface_area</th>\n",
       "      <th>listing_year</th>\n",
       "      <th>construction_year</th>\n",
       "    </tr>\n",
       "  </thead>\n",
       "  <tbody>\n",
       "    <tr>\n",
       "      <th>0</th>\n",
       "      <td>0</td>\n",
       "      <td>[ 0.75826776  3.213125   -4.9623823  -3.432942...</td>\n",
       "      <td>[ 0.94690067  1.3557965  -3.429536   -4.110108...</td>\n",
       "      <td>4388064.0</td>\n",
       "      <td>17.0</td>\n",
       "      <td>139000.0</td>\n",
       "      <td>1.0</td>\n",
       "      <td>1975.5</td>\n",
       "      <td>1.0</td>\n",
       "      <td>207.0</td>\n",
       "      <td>3.0</td>\n",
       "      <td>1.0</td>\n",
       "      <td>7.0</td>\n",
       "      <td>62.0</td>\n",
       "      <td>2018.0</td>\n",
       "      <td>2018.0</td>\n",
       "    </tr>\n",
       "    <tr>\n",
       "      <th>1</th>\n",
       "      <td>1</td>\n",
       "      <td>[ 0.95163393  1.9673971  -4.0726137  -2.553373...</td>\n",
       "      <td>[-1.1773891  -2.0983608  -6.210434   -2.006682...</td>\n",
       "      <td>4388200.0</td>\n",
       "      <td>74.0</td>\n",
       "      <td>209000.0</td>\n",
       "      <td>1.0</td>\n",
       "      <td>1980.0</td>\n",
       "      <td>1.0</td>\n",
       "      <td>148.0</td>\n",
       "      <td>5.0</td>\n",
       "      <td>1.0</td>\n",
       "      <td>6.0</td>\n",
       "      <td>136.0</td>\n",
       "      <td>2018.0</td>\n",
       "      <td>2018.0</td>\n",
       "    </tr>\n",
       "  </tbody>\n",
       "</table>\n",
       "</div>\n",
       "    <div class=\"colab-df-buttons\">\n",
       "\n",
       "  <div class=\"colab-df-container\">\n",
       "    <button class=\"colab-df-convert\" onclick=\"convertToInteractive('df-69ebc796-050d-44e7-b69a-4f8b7f162943')\"\n",
       "            title=\"Convert this dataframe to an interactive table.\"\n",
       "            style=\"display:none;\">\n",
       "\n",
       "  <svg xmlns=\"http://www.w3.org/2000/svg\" height=\"24px\" viewBox=\"0 -960 960 960\">\n",
       "    <path d=\"M120-120v-720h720v720H120Zm60-500h600v-160H180v160Zm220 220h160v-160H400v160Zm0 220h160v-160H400v160ZM180-400h160v-160H180v160Zm440 0h160v-160H620v160ZM180-180h160v-160H180v160Zm440 0h160v-160H620v160Z\"/>\n",
       "  </svg>\n",
       "    </button>\n",
       "\n",
       "  <style>\n",
       "    .colab-df-container {\n",
       "      display:flex;\n",
       "      gap: 12px;\n",
       "    }\n",
       "\n",
       "    .colab-df-convert {\n",
       "      background-color: #E8F0FE;\n",
       "      border: none;\n",
       "      border-radius: 50%;\n",
       "      cursor: pointer;\n",
       "      display: none;\n",
       "      fill: #1967D2;\n",
       "      height: 32px;\n",
       "      padding: 0 0 0 0;\n",
       "      width: 32px;\n",
       "    }\n",
       "\n",
       "    .colab-df-convert:hover {\n",
       "      background-color: #E2EBFA;\n",
       "      box-shadow: 0px 1px 2px rgba(60, 64, 67, 0.3), 0px 1px 3px 1px rgba(60, 64, 67, 0.15);\n",
       "      fill: #174EA6;\n",
       "    }\n",
       "\n",
       "    .colab-df-buttons div {\n",
       "      margin-bottom: 4px;\n",
       "    }\n",
       "\n",
       "    [theme=dark] .colab-df-convert {\n",
       "      background-color: #3B4455;\n",
       "      fill: #D2E3FC;\n",
       "    }\n",
       "\n",
       "    [theme=dark] .colab-df-convert:hover {\n",
       "      background-color: #434B5C;\n",
       "      box-shadow: 0px 1px 3px 1px rgba(0, 0, 0, 0.15);\n",
       "      filter: drop-shadow(0px 1px 2px rgba(0, 0, 0, 0.3));\n",
       "      fill: #FFFFFF;\n",
       "    }\n",
       "  </style>\n",
       "\n",
       "    <script>\n",
       "      const buttonEl =\n",
       "        document.querySelector('#df-69ebc796-050d-44e7-b69a-4f8b7f162943 button.colab-df-convert');\n",
       "      buttonEl.style.display =\n",
       "        google.colab.kernel.accessAllowed ? 'block' : 'none';\n",
       "\n",
       "      async function convertToInteractive(key) {\n",
       "        const element = document.querySelector('#df-69ebc796-050d-44e7-b69a-4f8b7f162943');\n",
       "        const dataTable =\n",
       "          await google.colab.kernel.invokeFunction('convertToInteractive',\n",
       "                                                    [key], {});\n",
       "        if (!dataTable) return;\n",
       "\n",
       "        const docLinkHtml = 'Like what you see? Visit the ' +\n",
       "          '<a target=\"_blank\" href=https://colab.research.google.com/notebooks/data_table.ipynb>data table notebook</a>'\n",
       "          + ' to learn more about interactive tables.';\n",
       "        element.innerHTML = '';\n",
       "        dataTable['output_type'] = 'display_data';\n",
       "        await google.colab.output.renderOutput(dataTable, element);\n",
       "        const docLink = document.createElement('div');\n",
       "        docLink.innerHTML = docLinkHtml;\n",
       "        element.appendChild(docLink);\n",
       "      }\n",
       "    </script>\n",
       "  </div>\n",
       "\n",
       "\n",
       "<div id=\"df-ab482494-64f2-4264-9e99-df1b778b998e\">\n",
       "  <button class=\"colab-df-quickchart\" onclick=\"quickchart('df-ab482494-64f2-4264-9e99-df1b778b998e')\"\n",
       "            title=\"Suggest charts\"\n",
       "            style=\"display:none;\">\n",
       "\n",
       "<svg xmlns=\"http://www.w3.org/2000/svg\" height=\"24px\"viewBox=\"0 0 24 24\"\n",
       "     width=\"24px\">\n",
       "    <g>\n",
       "        <path d=\"M19 3H5c-1.1 0-2 .9-2 2v14c0 1.1.9 2 2 2h14c1.1 0 2-.9 2-2V5c0-1.1-.9-2-2-2zM9 17H7v-7h2v7zm4 0h-2V7h2v10zm4 0h-2v-4h2v4z\"/>\n",
       "    </g>\n",
       "</svg>\n",
       "  </button>\n",
       "\n",
       "<style>\n",
       "  .colab-df-quickchart {\n",
       "      --bg-color: #E8F0FE;\n",
       "      --fill-color: #1967D2;\n",
       "      --hover-bg-color: #E2EBFA;\n",
       "      --hover-fill-color: #174EA6;\n",
       "      --disabled-fill-color: #AAA;\n",
       "      --disabled-bg-color: #DDD;\n",
       "  }\n",
       "\n",
       "  [theme=dark] .colab-df-quickchart {\n",
       "      --bg-color: #3B4455;\n",
       "      --fill-color: #D2E3FC;\n",
       "      --hover-bg-color: #434B5C;\n",
       "      --hover-fill-color: #FFFFFF;\n",
       "      --disabled-bg-color: #3B4455;\n",
       "      --disabled-fill-color: #666;\n",
       "  }\n",
       "\n",
       "  .colab-df-quickchart {\n",
       "    background-color: var(--bg-color);\n",
       "    border: none;\n",
       "    border-radius: 50%;\n",
       "    cursor: pointer;\n",
       "    display: none;\n",
       "    fill: var(--fill-color);\n",
       "    height: 32px;\n",
       "    padding: 0;\n",
       "    width: 32px;\n",
       "  }\n",
       "\n",
       "  .colab-df-quickchart:hover {\n",
       "    background-color: var(--hover-bg-color);\n",
       "    box-shadow: 0 1px 2px rgba(60, 64, 67, 0.3), 0 1px 3px 1px rgba(60, 64, 67, 0.15);\n",
       "    fill: var(--button-hover-fill-color);\n",
       "  }\n",
       "\n",
       "  .colab-df-quickchart-complete:disabled,\n",
       "  .colab-df-quickchart-complete:disabled:hover {\n",
       "    background-color: var(--disabled-bg-color);\n",
       "    fill: var(--disabled-fill-color);\n",
       "    box-shadow: none;\n",
       "  }\n",
       "\n",
       "  .colab-df-spinner {\n",
       "    border: 2px solid var(--fill-color);\n",
       "    border-color: transparent;\n",
       "    border-bottom-color: var(--fill-color);\n",
       "    animation:\n",
       "      spin 1s steps(1) infinite;\n",
       "  }\n",
       "\n",
       "  @keyframes spin {\n",
       "    0% {\n",
       "      border-color: transparent;\n",
       "      border-bottom-color: var(--fill-color);\n",
       "      border-left-color: var(--fill-color);\n",
       "    }\n",
       "    20% {\n",
       "      border-color: transparent;\n",
       "      border-left-color: var(--fill-color);\n",
       "      border-top-color: var(--fill-color);\n",
       "    }\n",
       "    30% {\n",
       "      border-color: transparent;\n",
       "      border-left-color: var(--fill-color);\n",
       "      border-top-color: var(--fill-color);\n",
       "      border-right-color: var(--fill-color);\n",
       "    }\n",
       "    40% {\n",
       "      border-color: transparent;\n",
       "      border-right-color: var(--fill-color);\n",
       "      border-top-color: var(--fill-color);\n",
       "    }\n",
       "    60% {\n",
       "      border-color: transparent;\n",
       "      border-right-color: var(--fill-color);\n",
       "    }\n",
       "    80% {\n",
       "      border-color: transparent;\n",
       "      border-right-color: var(--fill-color);\n",
       "      border-bottom-color: var(--fill-color);\n",
       "    }\n",
       "    90% {\n",
       "      border-color: transparent;\n",
       "      border-bottom-color: var(--fill-color);\n",
       "    }\n",
       "  }\n",
       "</style>\n",
       "\n",
       "  <script>\n",
       "    async function quickchart(key) {\n",
       "      const quickchartButtonEl =\n",
       "        document.querySelector('#' + key + ' button');\n",
       "      quickchartButtonEl.disabled = true;  // To prevent multiple clicks.\n",
       "      quickchartButtonEl.classList.add('colab-df-spinner');\n",
       "      try {\n",
       "        const charts = await google.colab.kernel.invokeFunction(\n",
       "            'suggestCharts', [key], {});\n",
       "      } catch (error) {\n",
       "        console.error('Error during call to suggestCharts:', error);\n",
       "      }\n",
       "      quickchartButtonEl.classList.remove('colab-df-spinner');\n",
       "      quickchartButtonEl.classList.add('colab-df-quickchart-complete');\n",
       "    }\n",
       "    (() => {\n",
       "      let quickchartButtonEl =\n",
       "        document.querySelector('#df-ab482494-64f2-4264-9e99-df1b778b998e button');\n",
       "      quickchartButtonEl.style.display =\n",
       "        google.colab.kernel.accessAllowed ? 'block' : 'none';\n",
       "    })();\n",
       "  </script>\n",
       "</div>\n",
       "\n",
       "    </div>\n",
       "  </div>\n"
      ],
      "text/plain": [
       "   Unnamed: 0                                        description  \\\n",
       "0           0  [ 0.75826776  3.213125   -4.9623823  -3.432942...   \n",
       "1           1  [ 0.95163393  1.9673971  -4.0726137  -2.553373...   \n",
       "\n",
       "                                       property_type         id  postal_code  \\\n",
       "0  [ 0.94690067  1.3557965  -3.429536   -4.110108...  4388064.0         17.0   \n",
       "1  [-1.1773891  -2.0983608  -6.210434   -2.006682...  4388200.0         74.0   \n",
       "\n",
       "      price  category  year_built  garden  plot_area  num_rooms  \\\n",
       "0  139000.0       1.0      1975.5     1.0      207.0        3.0   \n",
       "1  209000.0       1.0      1980.0     1.0      148.0        5.0   \n",
       "\n",
       "   num_bathrooms  energy_label  surface_area  listing_year  construction_year  \n",
       "0            1.0           7.0          62.0        2018.0             2018.0  \n",
       "1            1.0           6.0         136.0        2018.0             2018.0  "
      ]
     },
     "execution_count": 352,
     "metadata": {},
     "output_type": "execute_result"
    }
   ],
   "source": [
    "dataset.head(2)"
   ]
  },
  {
   "cell_type": "code",
   "execution_count": 353,
   "id": "7c906311-3006-439b-83e1-f6432d4667f3",
   "metadata": {
    "colab": {
     "base_uri": "https://localhost:8080/"
    },
    "id": "7c906311-3006-439b-83e1-f6432d4667f3",
    "outputId": "675ef288-01f9-4664-ad0a-8cf47c5cf5ce"
   },
   "outputs": [
    {
     "data": {
      "text/plain": [
       "(49992, 16)"
      ]
     },
     "execution_count": 353,
     "metadata": {},
     "output_type": "execute_result"
    }
   ],
   "source": [
    "dataset.shape\n"
   ]
  },
  {
   "cell_type": "code",
   "execution_count": 354,
   "id": "5b1f2cd4-c79e-4ee9-a376-4ebbc3aa866a",
   "metadata": {
    "id": "5b1f2cd4-c79e-4ee9-a376-4ebbc3aa866a"
   },
   "outputs": [],
   "source": [
    "dataset=dataset.dropna()\n",
    "\n"
   ]
  },
  {
   "cell_type": "code",
   "execution_count": 355,
   "id": "c845ca8b-3347-4931-9ca4-0c2d85bd135f",
   "metadata": {
    "id": "c845ca8b-3347-4931-9ca4-0c2d85bd135f"
   },
   "outputs": [],
   "source": [
    "data=dataset.drop(columns=[\"Unnamed: 0\",\"property_type\",\"description\",\"id\",\"listing_year\"])"
   ]
  },
  {
   "cell_type": "code",
   "execution_count": 356,
   "id": "f105513a-5eb3-429a-91e9-52494fd0aff5",
   "metadata": {
    "colab": {
     "base_uri": "https://localhost:8080/",
     "height": 206
    },
    "id": "f105513a-5eb3-429a-91e9-52494fd0aff5",
    "outputId": "589a6623-d043-4f07-e49e-0f850523b439"
   },
   "outputs": [
    {
     "data": {
      "application/vnd.google.colaboratory.intrinsic+json": {
       "summary": "{\n  \"name\": \"data\",\n  \"rows\": 48596,\n  \"fields\": [\n    {\n      \"column\": \"postal_code\",\n      \"properties\": {\n        \"dtype\": \"number\",\n        \"std\": 24.48226740245812,\n        \"min\": 10.0,\n        \"max\": 99.0,\n        \"num_unique_values\": 90,\n        \"samples\": [\n          65.0,\n          33.0,\n          89.0\n        ],\n        \"semantic_type\": \"\",\n        \"description\": \"\"\n      }\n    },\n    {\n      \"column\": \"price\",\n      \"properties\": {\n        \"dtype\": \"number\",\n        \"std\": 191126.52056652211,\n        \"min\": 215.0,\n        \"max\": 6200000.0,\n        \"num_unique_values\": 2090,\n        \"samples\": [\n          232425.0,\n          274520.0,\n          294500.0\n        ],\n        \"semantic_type\": \"\",\n        \"description\": \"\"\n      }\n    },\n    {\n      \"column\": \"category\",\n      \"properties\": {\n        \"dtype\": \"number\",\n        \"std\": 0.44431602231680073,\n        \"min\": 0.0,\n        \"max\": 1.0,\n        \"num_unique_values\": 2,\n        \"samples\": [\n          0.0,\n          1.0\n        ],\n        \"semantic_type\": \"\",\n        \"description\": \"\"\n      }\n    },\n    {\n      \"column\": \"year_built\",\n      \"properties\": {\n        \"dtype\": \"number\",\n        \"std\": 38.52811318245605,\n        \"min\": 1005.0,\n        \"max\": 2109.0,\n        \"num_unique_values\": 290,\n        \"samples\": [\n          2015.0,\n          1797.0\n        ],\n        \"semantic_type\": \"\",\n        \"description\": \"\"\n      }\n    },\n    {\n      \"column\": \"garden\",\n      \"properties\": {\n        \"dtype\": \"number\",\n        \"std\": 0.458756361132444,\n        \"min\": 0.0,\n        \"max\": 1.0,\n        \"num_unique_values\": 2,\n        \"samples\": [\n          0.0,\n          1.0\n        ],\n        \"semantic_type\": \"\",\n        \"description\": \"\"\n      }\n    },\n    {\n      \"column\": \"plot_area\",\n      \"properties\": {\n        \"dtype\": \"number\",\n        \"std\": 2904.7202525085017,\n        \"min\": 10.0,\n        \"max\": 312195.0,\n        \"num_unique_values\": 2371,\n        \"samples\": [\n          590.0,\n          2280.0\n        ],\n        \"semantic_type\": \"\",\n        \"description\": \"\"\n      }\n    },\n    {\n      \"column\": \"num_rooms\",\n      \"properties\": {\n        \"dtype\": \"number\",\n        \"std\": 1.5858902601577776,\n        \"min\": 1.0,\n        \"max\": 41.0,\n        \"num_unique_values\": 24,\n        \"samples\": [\n          13.0,\n          21.0\n        ],\n        \"semantic_type\": \"\",\n        \"description\": \"\"\n      }\n    },\n    {\n      \"column\": \"num_bathrooms\",\n      \"properties\": {\n        \"dtype\": \"number\",\n        \"std\": 0.28182402418945324,\n        \"min\": 1.0,\n        \"max\": 6.0,\n        \"num_unique_values\": 6,\n        \"samples\": [\n          1.0,\n          2.0\n        ],\n        \"semantic_type\": \"\",\n        \"description\": \"\"\n      }\n    },\n    {\n      \"column\": \"energy_label\",\n      \"properties\": {\n        \"dtype\": \"number\",\n        \"std\": 1.0774033970280508,\n        \"min\": 0.0,\n        \"max\": 11.0,\n        \"num_unique_values\": 12,\n        \"samples\": [\n          1.0,\n          4.0\n        ],\n        \"semantic_type\": \"\",\n        \"description\": \"\"\n      }\n    },\n    {\n      \"column\": \"surface_area\",\n      \"properties\": {\n        \"dtype\": \"number\",\n        \"std\": 50.1712887565382,\n        \"min\": 1.0,\n        \"max\": 1977.0,\n        \"num_unique_values\": 470,\n        \"samples\": [\n          247.0,\n          98.0\n        ],\n        \"semantic_type\": \"\",\n        \"description\": \"\"\n      }\n    },\n    {\n      \"column\": \"construction_year\",\n      \"properties\": {\n        \"dtype\": \"number\",\n        \"std\": 0.24731724522968987,\n        \"min\": 2016.0,\n        \"max\": 2019.0,\n        \"num_unique_values\": 4,\n        \"samples\": [\n          2019.0,\n          2017.0\n        ],\n        \"semantic_type\": \"\",\n        \"description\": \"\"\n      }\n    }\n  ]\n}",
       "type": "dataframe",
       "variable_name": "data"
      },
      "text/html": [
       "\n",
       "  <div id=\"df-bd28fa63-dc6c-4e37-9b34-875516cd6a3d\" class=\"colab-df-container\">\n",
       "    <div>\n",
       "<style scoped>\n",
       "    .dataframe tbody tr th:only-of-type {\n",
       "        vertical-align: middle;\n",
       "    }\n",
       "\n",
       "    .dataframe tbody tr th {\n",
       "        vertical-align: top;\n",
       "    }\n",
       "\n",
       "    .dataframe thead th {\n",
       "        text-align: right;\n",
       "    }\n",
       "</style>\n",
       "<table border=\"1\" class=\"dataframe\">\n",
       "  <thead>\n",
       "    <tr style=\"text-align: right;\">\n",
       "      <th></th>\n",
       "      <th>postal_code</th>\n",
       "      <th>price</th>\n",
       "      <th>category</th>\n",
       "      <th>year_built</th>\n",
       "      <th>garden</th>\n",
       "      <th>plot_area</th>\n",
       "      <th>num_rooms</th>\n",
       "      <th>num_bathrooms</th>\n",
       "      <th>energy_label</th>\n",
       "      <th>surface_area</th>\n",
       "      <th>construction_year</th>\n",
       "    </tr>\n",
       "  </thead>\n",
       "  <tbody>\n",
       "    <tr>\n",
       "      <th>0</th>\n",
       "      <td>17.0</td>\n",
       "      <td>139000.0</td>\n",
       "      <td>1.0</td>\n",
       "      <td>1975.5</td>\n",
       "      <td>1.0</td>\n",
       "      <td>207.0</td>\n",
       "      <td>3.0</td>\n",
       "      <td>1.0</td>\n",
       "      <td>7.0</td>\n",
       "      <td>62.0</td>\n",
       "      <td>2018.0</td>\n",
       "    </tr>\n",
       "    <tr>\n",
       "      <th>1</th>\n",
       "      <td>74.0</td>\n",
       "      <td>209000.0</td>\n",
       "      <td>1.0</td>\n",
       "      <td>1980.0</td>\n",
       "      <td>1.0</td>\n",
       "      <td>148.0</td>\n",
       "      <td>5.0</td>\n",
       "      <td>1.0</td>\n",
       "      <td>6.0</td>\n",
       "      <td>136.0</td>\n",
       "      <td>2018.0</td>\n",
       "    </tr>\n",
       "    <tr>\n",
       "      <th>2</th>\n",
       "      <td>10.0</td>\n",
       "      <td>267500.0</td>\n",
       "      <td>0.0</td>\n",
       "      <td>2005.5</td>\n",
       "      <td>0.0</td>\n",
       "      <td>207.0</td>\n",
       "      <td>3.0</td>\n",
       "      <td>1.0</td>\n",
       "      <td>7.0</td>\n",
       "      <td>70.0</td>\n",
       "      <td>2018.0</td>\n",
       "    </tr>\n",
       "    <tr>\n",
       "      <th>3</th>\n",
       "      <td>56.0</td>\n",
       "      <td>349000.0</td>\n",
       "      <td>1.0</td>\n",
       "      <td>1973.0</td>\n",
       "      <td>1.0</td>\n",
       "      <td>244.0</td>\n",
       "      <td>5.0</td>\n",
       "      <td>1.0</td>\n",
       "      <td>7.0</td>\n",
       "      <td>144.0</td>\n",
       "      <td>2018.0</td>\n",
       "    </tr>\n",
       "    <tr>\n",
       "      <th>4</th>\n",
       "      <td>77.0</td>\n",
       "      <td>495000.0</td>\n",
       "      <td>1.0</td>\n",
       "      <td>1900.0</td>\n",
       "      <td>0.0</td>\n",
       "      <td>4500.0</td>\n",
       "      <td>8.0</td>\n",
       "      <td>1.0</td>\n",
       "      <td>7.0</td>\n",
       "      <td>323.0</td>\n",
       "      <td>2018.0</td>\n",
       "    </tr>\n",
       "  </tbody>\n",
       "</table>\n",
       "</div>\n",
       "    <div class=\"colab-df-buttons\">\n",
       "\n",
       "  <div class=\"colab-df-container\">\n",
       "    <button class=\"colab-df-convert\" onclick=\"convertToInteractive('df-bd28fa63-dc6c-4e37-9b34-875516cd6a3d')\"\n",
       "            title=\"Convert this dataframe to an interactive table.\"\n",
       "            style=\"display:none;\">\n",
       "\n",
       "  <svg xmlns=\"http://www.w3.org/2000/svg\" height=\"24px\" viewBox=\"0 -960 960 960\">\n",
       "    <path d=\"M120-120v-720h720v720H120Zm60-500h600v-160H180v160Zm220 220h160v-160H400v160Zm0 220h160v-160H400v160ZM180-400h160v-160H180v160Zm440 0h160v-160H620v160ZM180-180h160v-160H180v160Zm440 0h160v-160H620v160Z\"/>\n",
       "  </svg>\n",
       "    </button>\n",
       "\n",
       "  <style>\n",
       "    .colab-df-container {\n",
       "      display:flex;\n",
       "      gap: 12px;\n",
       "    }\n",
       "\n",
       "    .colab-df-convert {\n",
       "      background-color: #E8F0FE;\n",
       "      border: none;\n",
       "      border-radius: 50%;\n",
       "      cursor: pointer;\n",
       "      display: none;\n",
       "      fill: #1967D2;\n",
       "      height: 32px;\n",
       "      padding: 0 0 0 0;\n",
       "      width: 32px;\n",
       "    }\n",
       "\n",
       "    .colab-df-convert:hover {\n",
       "      background-color: #E2EBFA;\n",
       "      box-shadow: 0px 1px 2px rgba(60, 64, 67, 0.3), 0px 1px 3px 1px rgba(60, 64, 67, 0.15);\n",
       "      fill: #174EA6;\n",
       "    }\n",
       "\n",
       "    .colab-df-buttons div {\n",
       "      margin-bottom: 4px;\n",
       "    }\n",
       "\n",
       "    [theme=dark] .colab-df-convert {\n",
       "      background-color: #3B4455;\n",
       "      fill: #D2E3FC;\n",
       "    }\n",
       "\n",
       "    [theme=dark] .colab-df-convert:hover {\n",
       "      background-color: #434B5C;\n",
       "      box-shadow: 0px 1px 3px 1px rgba(0, 0, 0, 0.15);\n",
       "      filter: drop-shadow(0px 1px 2px rgba(0, 0, 0, 0.3));\n",
       "      fill: #FFFFFF;\n",
       "    }\n",
       "  </style>\n",
       "\n",
       "    <script>\n",
       "      const buttonEl =\n",
       "        document.querySelector('#df-bd28fa63-dc6c-4e37-9b34-875516cd6a3d button.colab-df-convert');\n",
       "      buttonEl.style.display =\n",
       "        google.colab.kernel.accessAllowed ? 'block' : 'none';\n",
       "\n",
       "      async function convertToInteractive(key) {\n",
       "        const element = document.querySelector('#df-bd28fa63-dc6c-4e37-9b34-875516cd6a3d');\n",
       "        const dataTable =\n",
       "          await google.colab.kernel.invokeFunction('convertToInteractive',\n",
       "                                                    [key], {});\n",
       "        if (!dataTable) return;\n",
       "\n",
       "        const docLinkHtml = 'Like what you see? Visit the ' +\n",
       "          '<a target=\"_blank\" href=https://colab.research.google.com/notebooks/data_table.ipynb>data table notebook</a>'\n",
       "          + ' to learn more about interactive tables.';\n",
       "        element.innerHTML = '';\n",
       "        dataTable['output_type'] = 'display_data';\n",
       "        await google.colab.output.renderOutput(dataTable, element);\n",
       "        const docLink = document.createElement('div');\n",
       "        docLink.innerHTML = docLinkHtml;\n",
       "        element.appendChild(docLink);\n",
       "      }\n",
       "    </script>\n",
       "  </div>\n",
       "\n",
       "\n",
       "<div id=\"df-b66e117b-ad8c-4558-8869-6dfe43fbdd63\">\n",
       "  <button class=\"colab-df-quickchart\" onclick=\"quickchart('df-b66e117b-ad8c-4558-8869-6dfe43fbdd63')\"\n",
       "            title=\"Suggest charts\"\n",
       "            style=\"display:none;\">\n",
       "\n",
       "<svg xmlns=\"http://www.w3.org/2000/svg\" height=\"24px\"viewBox=\"0 0 24 24\"\n",
       "     width=\"24px\">\n",
       "    <g>\n",
       "        <path d=\"M19 3H5c-1.1 0-2 .9-2 2v14c0 1.1.9 2 2 2h14c1.1 0 2-.9 2-2V5c0-1.1-.9-2-2-2zM9 17H7v-7h2v7zm4 0h-2V7h2v10zm4 0h-2v-4h2v4z\"/>\n",
       "    </g>\n",
       "</svg>\n",
       "  </button>\n",
       "\n",
       "<style>\n",
       "  .colab-df-quickchart {\n",
       "      --bg-color: #E8F0FE;\n",
       "      --fill-color: #1967D2;\n",
       "      --hover-bg-color: #E2EBFA;\n",
       "      --hover-fill-color: #174EA6;\n",
       "      --disabled-fill-color: #AAA;\n",
       "      --disabled-bg-color: #DDD;\n",
       "  }\n",
       "\n",
       "  [theme=dark] .colab-df-quickchart {\n",
       "      --bg-color: #3B4455;\n",
       "      --fill-color: #D2E3FC;\n",
       "      --hover-bg-color: #434B5C;\n",
       "      --hover-fill-color: #FFFFFF;\n",
       "      --disabled-bg-color: #3B4455;\n",
       "      --disabled-fill-color: #666;\n",
       "  }\n",
       "\n",
       "  .colab-df-quickchart {\n",
       "    background-color: var(--bg-color);\n",
       "    border: none;\n",
       "    border-radius: 50%;\n",
       "    cursor: pointer;\n",
       "    display: none;\n",
       "    fill: var(--fill-color);\n",
       "    height: 32px;\n",
       "    padding: 0;\n",
       "    width: 32px;\n",
       "  }\n",
       "\n",
       "  .colab-df-quickchart:hover {\n",
       "    background-color: var(--hover-bg-color);\n",
       "    box-shadow: 0 1px 2px rgba(60, 64, 67, 0.3), 0 1px 3px 1px rgba(60, 64, 67, 0.15);\n",
       "    fill: var(--button-hover-fill-color);\n",
       "  }\n",
       "\n",
       "  .colab-df-quickchart-complete:disabled,\n",
       "  .colab-df-quickchart-complete:disabled:hover {\n",
       "    background-color: var(--disabled-bg-color);\n",
       "    fill: var(--disabled-fill-color);\n",
       "    box-shadow: none;\n",
       "  }\n",
       "\n",
       "  .colab-df-spinner {\n",
       "    border: 2px solid var(--fill-color);\n",
       "    border-color: transparent;\n",
       "    border-bottom-color: var(--fill-color);\n",
       "    animation:\n",
       "      spin 1s steps(1) infinite;\n",
       "  }\n",
       "\n",
       "  @keyframes spin {\n",
       "    0% {\n",
       "      border-color: transparent;\n",
       "      border-bottom-color: var(--fill-color);\n",
       "      border-left-color: var(--fill-color);\n",
       "    }\n",
       "    20% {\n",
       "      border-color: transparent;\n",
       "      border-left-color: var(--fill-color);\n",
       "      border-top-color: var(--fill-color);\n",
       "    }\n",
       "    30% {\n",
       "      border-color: transparent;\n",
       "      border-left-color: var(--fill-color);\n",
       "      border-top-color: var(--fill-color);\n",
       "      border-right-color: var(--fill-color);\n",
       "    }\n",
       "    40% {\n",
       "      border-color: transparent;\n",
       "      border-right-color: var(--fill-color);\n",
       "      border-top-color: var(--fill-color);\n",
       "    }\n",
       "    60% {\n",
       "      border-color: transparent;\n",
       "      border-right-color: var(--fill-color);\n",
       "    }\n",
       "    80% {\n",
       "      border-color: transparent;\n",
       "      border-right-color: var(--fill-color);\n",
       "      border-bottom-color: var(--fill-color);\n",
       "    }\n",
       "    90% {\n",
       "      border-color: transparent;\n",
       "      border-bottom-color: var(--fill-color);\n",
       "    }\n",
       "  }\n",
       "</style>\n",
       "\n",
       "  <script>\n",
       "    async function quickchart(key) {\n",
       "      const quickchartButtonEl =\n",
       "        document.querySelector('#' + key + ' button');\n",
       "      quickchartButtonEl.disabled = true;  // To prevent multiple clicks.\n",
       "      quickchartButtonEl.classList.add('colab-df-spinner');\n",
       "      try {\n",
       "        const charts = await google.colab.kernel.invokeFunction(\n",
       "            'suggestCharts', [key], {});\n",
       "      } catch (error) {\n",
       "        console.error('Error during call to suggestCharts:', error);\n",
       "      }\n",
       "      quickchartButtonEl.classList.remove('colab-df-spinner');\n",
       "      quickchartButtonEl.classList.add('colab-df-quickchart-complete');\n",
       "    }\n",
       "    (() => {\n",
       "      let quickchartButtonEl =\n",
       "        document.querySelector('#df-b66e117b-ad8c-4558-8869-6dfe43fbdd63 button');\n",
       "      quickchartButtonEl.style.display =\n",
       "        google.colab.kernel.accessAllowed ? 'block' : 'none';\n",
       "    })();\n",
       "  </script>\n",
       "</div>\n",
       "\n",
       "    </div>\n",
       "  </div>\n"
      ],
      "text/plain": [
       "   postal_code     price  category  year_built  garden  plot_area  num_rooms  \\\n",
       "0         17.0  139000.0       1.0      1975.5     1.0      207.0        3.0   \n",
       "1         74.0  209000.0       1.0      1980.0     1.0      148.0        5.0   \n",
       "2         10.0  267500.0       0.0      2005.5     0.0      207.0        3.0   \n",
       "3         56.0  349000.0       1.0      1973.0     1.0      244.0        5.0   \n",
       "4         77.0  495000.0       1.0      1900.0     0.0     4500.0        8.0   \n",
       "\n",
       "   num_bathrooms  energy_label  surface_area  construction_year  \n",
       "0            1.0           7.0          62.0             2018.0  \n",
       "1            1.0           6.0         136.0             2018.0  \n",
       "2            1.0           7.0          70.0             2018.0  \n",
       "3            1.0           7.0         144.0             2018.0  \n",
       "4            1.0           7.0         323.0             2018.0  "
      ]
     },
     "execution_count": 356,
     "metadata": {},
     "output_type": "execute_result"
    }
   ],
   "source": [
    "data.head()"
   ]
  },
  {
   "cell_type": "code",
   "execution_count": 357,
   "id": "3edac907-1579-4180-b0a4-d8aa4a7455cd",
   "metadata": {
    "id": "3edac907-1579-4180-b0a4-d8aa4a7455cd"
   },
   "outputs": [],
   "source": [
    "from sklearn.preprocessing import StandardScaler\n",
    "ss=StandardScaler()\n",
    "d=ss.fit_transform(data)\n",
    "data=pd.DataFrame(d,columns=data.columns)\n",
    "\n",
    "dataset=data.dropna()"
   ]
  },
  {
   "cell_type": "code",
   "execution_count": 358,
   "id": "83ae0690-652b-4141-a8d9-564f145c0259",
   "metadata": {
    "colab": {
     "base_uri": "https://localhost:8080/",
     "height": 206
    },
    "id": "83ae0690-652b-4141-a8d9-564f145c0259",
    "outputId": "23217dbf-4e00-4550-ef32-66daf7fdc949"
   },
   "outputs": [
    {
     "data": {
      "application/vnd.google.colaboratory.intrinsic+json": {
       "summary": "{\n  \"name\": \"dataset\",\n  \"rows\": 48596,\n  \"fields\": [\n    {\n      \"column\": \"postal_code\",\n      \"properties\": {\n        \"dtype\": \"number\",\n        \"std\": 1.0000102890713938,\n        \"min\": -1.4567581521680093,\n        \"max\": 2.1785634569089734,\n        \"num_unique_values\": 90,\n        \"samples\": [\n          0.7897889096211371,\n          -0.5172930172380026,\n          1.7701003547654919\n        ],\n        \"semantic_type\": \"\",\n        \"description\": \"\"\n      }\n    },\n    {\n      \"column\": \"price\",\n      \"properties\": {\n        \"dtype\": \"number\",\n        \"std\": 1.0000102890714884,\n        \"min\": -1.6266565320732935,\n        \"max\": 30.811797177301376,\n        \"num_unique_values\": 2090,\n        \"samples\": [\n          -0.41168966856852807,\n          -0.19144062623945912,\n          -0.08690146800843888\n        ],\n        \"semantic_type\": \"\",\n        \"description\": \"\"\n      }\n    },\n    {\n      \"column\": \"category\",\n      \"properties\": {\n        \"dtype\": \"number\",\n        \"std\": 1.0000102890718268,\n        \"min\": -1.641459575896901,\n        \"max\": 0.6092139061381365,\n        \"num_unique_values\": 2,\n        \"samples\": [\n          -1.641459575896901,\n          0.6092139061381365\n        ],\n        \"semantic_type\": \"\",\n        \"description\": \"\"\n      }\n    },\n    {\n      \"column\": \"year_built\",\n      \"properties\": {\n        \"dtype\": \"number\",\n        \"std\": 1.0000102890714202,\n        \"min\": -25.15302300983255,\n        \"max\": 3.501672690076231,\n        \"num_unique_values\": 290,\n        \"samples\": [\n          1.0618707011347226,\n          -4.596393485984946\n        ],\n        \"semantic_type\": \"\",\n        \"description\": \"\"\n      }\n    },\n    {\n      \"column\": \"garden\",\n      \"properties\": {\n        \"dtype\": \"number\",\n        \"std\": 1.0000102890712084,\n        \"min\": -1.5234040416991839,\n        \"max\": 0.6564246730529961,\n        \"num_unique_values\": 2,\n        \"samples\": [\n          -1.5234040416991839,\n          0.6564246730529961\n        ],\n        \"semantic_type\": \"\",\n        \"description\": \"\"\n      }\n    },\n    {\n      \"column\": \"plot_area\",\n      \"properties\": {\n        \"dtype\": \"number\",\n        \"std\": 1.000010289071417,\n        \"min\": -0.1557349892078128,\n        \"max\": 107.32043653682966,\n        \"num_unique_values\": 2371,\n        \"samples\": [\n          0.043942059609720814,\n          0.625759667371155\n        ],\n        \"semantic_type\": \"\",\n        \"description\": \"\"\n      }\n    },\n    {\n      \"column\": \"num_rooms\",\n      \"properties\": {\n        \"dtype\": \"number\",\n        \"std\": 1.000010289071445,\n        \"min\": -2.297179091702683,\n        \"max\": 22.925506593297307,\n        \"num_unique_values\": 24,\n        \"samples\": [\n          5.269626613797315,\n          10.314163750797313\n        ],\n        \"semantic_type\": \"\",\n        \"description\": \"\"\n      }\n    },\n    {\n      \"column\": \"num_bathrooms\",\n      \"properties\": {\n        \"dtype\": \"number\",\n        \"std\": 1.0000102890711429,\n        \"min\": -0.25468443820262704,\n        \"max\": 17.48706578957099,\n        \"num_unique_values\": 6,\n        \"samples\": [\n          -0.25468443820262704,\n          3.2936656073520965\n        ],\n        \"semantic_type\": \"\",\n        \"description\": \"\"\n      }\n    },\n    {\n      \"column\": \"energy_label\",\n      \"properties\": {\n        \"dtype\": \"number\",\n        \"std\": 1.0000102890710787,\n        \"min\": -6.49772295677546,\n        \"max\": 3.7121141480010182,\n        \"num_unique_values\": 12,\n        \"samples\": [\n          -5.5695559472503255,\n          -2.785054918674922\n        ],\n        \"semantic_type\": \"\",\n        \"description\": \"\"\n      }\n    },\n    {\n      \"column\": \"surface_area\",\n      \"properties\": {\n        \"dtype\": \"number\",\n        \"std\": 1.0000102890714757,\n        \"min\": -2.3670520865395357,\n        \"max\": 37.018428736846886,\n        \"num_unique_values\": 470,\n        \"samples\": [\n          2.53620109289015,\n          -0.4336555076587245\n        ],\n        \"semantic_type\": \"\",\n        \"description\": \"\"\n      }\n    },\n    {\n      \"column\": \"construction_year\",\n      \"properties\": {\n        \"dtype\": \"number\",\n        \"std\": 1.0000102890711533,\n        \"min\": -8.345380595597204,\n        \"max\": 3.784913288399364,\n        \"num_unique_values\": 4,\n        \"samples\": [\n          3.784913288399364,\n          -4.301949300931682\n        ],\n        \"semantic_type\": \"\",\n        \"description\": \"\"\n      }\n    }\n  ]\n}",
       "type": "dataframe",
       "variable_name": "dataset"
      },
      "text/html": [
       "\n",
       "  <div id=\"df-19941ee1-280c-4cf4-8e51-f768daa54714\" class=\"colab-df-container\">\n",
       "    <div>\n",
       "<style scoped>\n",
       "    .dataframe tbody tr th:only-of-type {\n",
       "        vertical-align: middle;\n",
       "    }\n",
       "\n",
       "    .dataframe tbody tr th {\n",
       "        vertical-align: top;\n",
       "    }\n",
       "\n",
       "    .dataframe thead th {\n",
       "        text-align: right;\n",
       "    }\n",
       "</style>\n",
       "<table border=\"1\" class=\"dataframe\">\n",
       "  <thead>\n",
       "    <tr style=\"text-align: right;\">\n",
       "      <th></th>\n",
       "      <th>postal_code</th>\n",
       "      <th>price</th>\n",
       "      <th>category</th>\n",
       "      <th>year_built</th>\n",
       "      <th>garden</th>\n",
       "      <th>plot_area</th>\n",
       "      <th>num_rooms</th>\n",
       "      <th>num_bathrooms</th>\n",
       "      <th>energy_label</th>\n",
       "      <th>surface_area</th>\n",
       "      <th>construction_year</th>\n",
       "    </tr>\n",
       "  </thead>\n",
       "  <tbody>\n",
       "    <tr>\n",
       "      <th>0</th>\n",
       "      <td>-1.170834</td>\n",
       "      <td>-0.900507</td>\n",
       "      <td>0.609214</td>\n",
       "      <td>0.036635</td>\n",
       "      <td>0.656425</td>\n",
       "      <td>-0.087914</td>\n",
       "      <td>-1.036045</td>\n",
       "      <td>-0.254684</td>\n",
       "      <td>-0.000554</td>\n",
       "      <td>-1.151205</td>\n",
       "      <td>-0.258518</td>\n",
       "    </tr>\n",
       "    <tr>\n",
       "      <th>1</th>\n",
       "      <td>1.157406</td>\n",
       "      <td>-0.534254</td>\n",
       "      <td>0.609214</td>\n",
       "      <td>0.153434</td>\n",
       "      <td>0.656425</td>\n",
       "      <td>-0.108226</td>\n",
       "      <td>0.225089</td>\n",
       "      <td>-0.254684</td>\n",
       "      <td>-0.928721</td>\n",
       "      <td>0.323758</td>\n",
       "      <td>-0.258518</td>\n",
       "    </tr>\n",
       "    <tr>\n",
       "      <th>2</th>\n",
       "      <td>-1.456758</td>\n",
       "      <td>-0.228171</td>\n",
       "      <td>-1.641460</td>\n",
       "      <td>0.815295</td>\n",
       "      <td>-1.523404</td>\n",
       "      <td>-0.087914</td>\n",
       "      <td>-1.036045</td>\n",
       "      <td>-0.254684</td>\n",
       "      <td>-0.000554</td>\n",
       "      <td>-0.991749</td>\n",
       "      <td>-0.258518</td>\n",
       "    </tr>\n",
       "    <tr>\n",
       "      <th>3</th>\n",
       "      <td>0.422172</td>\n",
       "      <td>0.198253</td>\n",
       "      <td>0.609214</td>\n",
       "      <td>-0.028254</td>\n",
       "      <td>0.656425</td>\n",
       "      <td>-0.075176</td>\n",
       "      <td>0.225089</td>\n",
       "      <td>-0.254684</td>\n",
       "      <td>-0.000554</td>\n",
       "      <td>0.483213</td>\n",
       "      <td>-0.258518</td>\n",
       "    </tr>\n",
       "    <tr>\n",
       "      <th>4</th>\n",
       "      <td>1.279945</td>\n",
       "      <td>0.962153</td>\n",
       "      <td>0.609214</td>\n",
       "      <td>-1.922993</td>\n",
       "      <td>-1.523404</td>\n",
       "      <td>1.390041</td>\n",
       "      <td>2.116791</td>\n",
       "      <td>-0.254684</td>\n",
       "      <td>-0.000554</td>\n",
       "      <td>4.051027</td>\n",
       "      <td>-0.258518</td>\n",
       "    </tr>\n",
       "  </tbody>\n",
       "</table>\n",
       "</div>\n",
       "    <div class=\"colab-df-buttons\">\n",
       "\n",
       "  <div class=\"colab-df-container\">\n",
       "    <button class=\"colab-df-convert\" onclick=\"convertToInteractive('df-19941ee1-280c-4cf4-8e51-f768daa54714')\"\n",
       "            title=\"Convert this dataframe to an interactive table.\"\n",
       "            style=\"display:none;\">\n",
       "\n",
       "  <svg xmlns=\"http://www.w3.org/2000/svg\" height=\"24px\" viewBox=\"0 -960 960 960\">\n",
       "    <path d=\"M120-120v-720h720v720H120Zm60-500h600v-160H180v160Zm220 220h160v-160H400v160Zm0 220h160v-160H400v160ZM180-400h160v-160H180v160Zm440 0h160v-160H620v160ZM180-180h160v-160H180v160Zm440 0h160v-160H620v160Z\"/>\n",
       "  </svg>\n",
       "    </button>\n",
       "\n",
       "  <style>\n",
       "    .colab-df-container {\n",
       "      display:flex;\n",
       "      gap: 12px;\n",
       "    }\n",
       "\n",
       "    .colab-df-convert {\n",
       "      background-color: #E8F0FE;\n",
       "      border: none;\n",
       "      border-radius: 50%;\n",
       "      cursor: pointer;\n",
       "      display: none;\n",
       "      fill: #1967D2;\n",
       "      height: 32px;\n",
       "      padding: 0 0 0 0;\n",
       "      width: 32px;\n",
       "    }\n",
       "\n",
       "    .colab-df-convert:hover {\n",
       "      background-color: #E2EBFA;\n",
       "      box-shadow: 0px 1px 2px rgba(60, 64, 67, 0.3), 0px 1px 3px 1px rgba(60, 64, 67, 0.15);\n",
       "      fill: #174EA6;\n",
       "    }\n",
       "\n",
       "    .colab-df-buttons div {\n",
       "      margin-bottom: 4px;\n",
       "    }\n",
       "\n",
       "    [theme=dark] .colab-df-convert {\n",
       "      background-color: #3B4455;\n",
       "      fill: #D2E3FC;\n",
       "    }\n",
       "\n",
       "    [theme=dark] .colab-df-convert:hover {\n",
       "      background-color: #434B5C;\n",
       "      box-shadow: 0px 1px 3px 1px rgba(0, 0, 0, 0.15);\n",
       "      filter: drop-shadow(0px 1px 2px rgba(0, 0, 0, 0.3));\n",
       "      fill: #FFFFFF;\n",
       "    }\n",
       "  </style>\n",
       "\n",
       "    <script>\n",
       "      const buttonEl =\n",
       "        document.querySelector('#df-19941ee1-280c-4cf4-8e51-f768daa54714 button.colab-df-convert');\n",
       "      buttonEl.style.display =\n",
       "        google.colab.kernel.accessAllowed ? 'block' : 'none';\n",
       "\n",
       "      async function convertToInteractive(key) {\n",
       "        const element = document.querySelector('#df-19941ee1-280c-4cf4-8e51-f768daa54714');\n",
       "        const dataTable =\n",
       "          await google.colab.kernel.invokeFunction('convertToInteractive',\n",
       "                                                    [key], {});\n",
       "        if (!dataTable) return;\n",
       "\n",
       "        const docLinkHtml = 'Like what you see? Visit the ' +\n",
       "          '<a target=\"_blank\" href=https://colab.research.google.com/notebooks/data_table.ipynb>data table notebook</a>'\n",
       "          + ' to learn more about interactive tables.';\n",
       "        element.innerHTML = '';\n",
       "        dataTable['output_type'] = 'display_data';\n",
       "        await google.colab.output.renderOutput(dataTable, element);\n",
       "        const docLink = document.createElement('div');\n",
       "        docLink.innerHTML = docLinkHtml;\n",
       "        element.appendChild(docLink);\n",
       "      }\n",
       "    </script>\n",
       "  </div>\n",
       "\n",
       "\n",
       "<div id=\"df-be21132d-fe03-4b10-9630-4f132fe40558\">\n",
       "  <button class=\"colab-df-quickchart\" onclick=\"quickchart('df-be21132d-fe03-4b10-9630-4f132fe40558')\"\n",
       "            title=\"Suggest charts\"\n",
       "            style=\"display:none;\">\n",
       "\n",
       "<svg xmlns=\"http://www.w3.org/2000/svg\" height=\"24px\"viewBox=\"0 0 24 24\"\n",
       "     width=\"24px\">\n",
       "    <g>\n",
       "        <path d=\"M19 3H5c-1.1 0-2 .9-2 2v14c0 1.1.9 2 2 2h14c1.1 0 2-.9 2-2V5c0-1.1-.9-2-2-2zM9 17H7v-7h2v7zm4 0h-2V7h2v10zm4 0h-2v-4h2v4z\"/>\n",
       "    </g>\n",
       "</svg>\n",
       "  </button>\n",
       "\n",
       "<style>\n",
       "  .colab-df-quickchart {\n",
       "      --bg-color: #E8F0FE;\n",
       "      --fill-color: #1967D2;\n",
       "      --hover-bg-color: #E2EBFA;\n",
       "      --hover-fill-color: #174EA6;\n",
       "      --disabled-fill-color: #AAA;\n",
       "      --disabled-bg-color: #DDD;\n",
       "  }\n",
       "\n",
       "  [theme=dark] .colab-df-quickchart {\n",
       "      --bg-color: #3B4455;\n",
       "      --fill-color: #D2E3FC;\n",
       "      --hover-bg-color: #434B5C;\n",
       "      --hover-fill-color: #FFFFFF;\n",
       "      --disabled-bg-color: #3B4455;\n",
       "      --disabled-fill-color: #666;\n",
       "  }\n",
       "\n",
       "  .colab-df-quickchart {\n",
       "    background-color: var(--bg-color);\n",
       "    border: none;\n",
       "    border-radius: 50%;\n",
       "    cursor: pointer;\n",
       "    display: none;\n",
       "    fill: var(--fill-color);\n",
       "    height: 32px;\n",
       "    padding: 0;\n",
       "    width: 32px;\n",
       "  }\n",
       "\n",
       "  .colab-df-quickchart:hover {\n",
       "    background-color: var(--hover-bg-color);\n",
       "    box-shadow: 0 1px 2px rgba(60, 64, 67, 0.3), 0 1px 3px 1px rgba(60, 64, 67, 0.15);\n",
       "    fill: var(--button-hover-fill-color);\n",
       "  }\n",
       "\n",
       "  .colab-df-quickchart-complete:disabled,\n",
       "  .colab-df-quickchart-complete:disabled:hover {\n",
       "    background-color: var(--disabled-bg-color);\n",
       "    fill: var(--disabled-fill-color);\n",
       "    box-shadow: none;\n",
       "  }\n",
       "\n",
       "  .colab-df-spinner {\n",
       "    border: 2px solid var(--fill-color);\n",
       "    border-color: transparent;\n",
       "    border-bottom-color: var(--fill-color);\n",
       "    animation:\n",
       "      spin 1s steps(1) infinite;\n",
       "  }\n",
       "\n",
       "  @keyframes spin {\n",
       "    0% {\n",
       "      border-color: transparent;\n",
       "      border-bottom-color: var(--fill-color);\n",
       "      border-left-color: var(--fill-color);\n",
       "    }\n",
       "    20% {\n",
       "      border-color: transparent;\n",
       "      border-left-color: var(--fill-color);\n",
       "      border-top-color: var(--fill-color);\n",
       "    }\n",
       "    30% {\n",
       "      border-color: transparent;\n",
       "      border-left-color: var(--fill-color);\n",
       "      border-top-color: var(--fill-color);\n",
       "      border-right-color: var(--fill-color);\n",
       "    }\n",
       "    40% {\n",
       "      border-color: transparent;\n",
       "      border-right-color: var(--fill-color);\n",
       "      border-top-color: var(--fill-color);\n",
       "    }\n",
       "    60% {\n",
       "      border-color: transparent;\n",
       "      border-right-color: var(--fill-color);\n",
       "    }\n",
       "    80% {\n",
       "      border-color: transparent;\n",
       "      border-right-color: var(--fill-color);\n",
       "      border-bottom-color: var(--fill-color);\n",
       "    }\n",
       "    90% {\n",
       "      border-color: transparent;\n",
       "      border-bottom-color: var(--fill-color);\n",
       "    }\n",
       "  }\n",
       "</style>\n",
       "\n",
       "  <script>\n",
       "    async function quickchart(key) {\n",
       "      const quickchartButtonEl =\n",
       "        document.querySelector('#' + key + ' button');\n",
       "      quickchartButtonEl.disabled = true;  // To prevent multiple clicks.\n",
       "      quickchartButtonEl.classList.add('colab-df-spinner');\n",
       "      try {\n",
       "        const charts = await google.colab.kernel.invokeFunction(\n",
       "            'suggestCharts', [key], {});\n",
       "      } catch (error) {\n",
       "        console.error('Error during call to suggestCharts:', error);\n",
       "      }\n",
       "      quickchartButtonEl.classList.remove('colab-df-spinner');\n",
       "      quickchartButtonEl.classList.add('colab-df-quickchart-complete');\n",
       "    }\n",
       "    (() => {\n",
       "      let quickchartButtonEl =\n",
       "        document.querySelector('#df-be21132d-fe03-4b10-9630-4f132fe40558 button');\n",
       "      quickchartButtonEl.style.display =\n",
       "        google.colab.kernel.accessAllowed ? 'block' : 'none';\n",
       "    })();\n",
       "  </script>\n",
       "</div>\n",
       "\n",
       "    </div>\n",
       "  </div>\n"
      ],
      "text/plain": [
       "   postal_code     price  category  year_built    garden  plot_area  \\\n",
       "0    -1.170834 -0.900507  0.609214    0.036635  0.656425  -0.087914   \n",
       "1     1.157406 -0.534254  0.609214    0.153434  0.656425  -0.108226   \n",
       "2    -1.456758 -0.228171 -1.641460    0.815295 -1.523404  -0.087914   \n",
       "3     0.422172  0.198253  0.609214   -0.028254  0.656425  -0.075176   \n",
       "4     1.279945  0.962153  0.609214   -1.922993 -1.523404   1.390041   \n",
       "\n",
       "   num_rooms  num_bathrooms  energy_label  surface_area  construction_year  \n",
       "0  -1.036045      -0.254684     -0.000554     -1.151205          -0.258518  \n",
       "1   0.225089      -0.254684     -0.928721      0.323758          -0.258518  \n",
       "2  -1.036045      -0.254684     -0.000554     -0.991749          -0.258518  \n",
       "3   0.225089      -0.254684     -0.000554      0.483213          -0.258518  \n",
       "4   2.116791      -0.254684     -0.000554      4.051027          -0.258518  "
      ]
     },
     "execution_count": 358,
     "metadata": {},
     "output_type": "execute_result"
    }
   ],
   "source": [
    "dataset.head()"
   ]
  },
  {
   "cell_type": "code",
   "execution_count": 358,
   "id": "6e0efc82-a18f-445d-87b5-2ebdebdb0abd",
   "metadata": {
    "id": "6e0efc82-a18f-445d-87b5-2ebdebdb0abd"
   },
   "outputs": [],
   "source": []
  },
  {
   "cell_type": "code",
   "execution_count": 358,
   "id": "1f8fd168-7faa-4221-aa3a-232e06204d21",
   "metadata": {
    "id": "1f8fd168-7faa-4221-aa3a-232e06204d21"
   },
   "outputs": [],
   "source": []
  },
  {
   "cell_type": "code",
   "execution_count": 359,
   "id": "d49b100e-adad-4674-b723-6cd1a4b124dd",
   "metadata": {
    "id": "d49b100e-adad-4674-b723-6cd1a4b124dd"
   },
   "outputs": [],
   "source": [
    "x=dataset.drop(columns=[\"price\"])\n",
    "y=dataset[\"price\"]"
   ]
  },
  {
   "cell_type": "code",
   "execution_count": 360,
   "id": "7f8485e7-fd57-4ac1-b18b-99c1a094dbb9",
   "metadata": {
    "colab": {
     "base_uri": "https://localhost:8080/",
     "height": 206
    },
    "id": "7f8485e7-fd57-4ac1-b18b-99c1a094dbb9",
    "outputId": "6f3dc170-8e0a-4df4-af95-fd84d1ac8ec6"
   },
   "outputs": [
    {
     "data": {
      "application/vnd.google.colaboratory.intrinsic+json": {
       "summary": "{\n  \"name\": \"x\",\n  \"rows\": 48596,\n  \"fields\": [\n    {\n      \"column\": \"postal_code\",\n      \"properties\": {\n        \"dtype\": \"number\",\n        \"std\": 1.0000102890713938,\n        \"min\": -1.4567581521680093,\n        \"max\": 2.1785634569089734,\n        \"num_unique_values\": 90,\n        \"samples\": [\n          0.7897889096211371,\n          -0.5172930172380026,\n          1.7701003547654919\n        ],\n        \"semantic_type\": \"\",\n        \"description\": \"\"\n      }\n    },\n    {\n      \"column\": \"category\",\n      \"properties\": {\n        \"dtype\": \"number\",\n        \"std\": 1.0000102890718268,\n        \"min\": -1.641459575896901,\n        \"max\": 0.6092139061381365,\n        \"num_unique_values\": 2,\n        \"samples\": [\n          -1.641459575896901,\n          0.6092139061381365\n        ],\n        \"semantic_type\": \"\",\n        \"description\": \"\"\n      }\n    },\n    {\n      \"column\": \"year_built\",\n      \"properties\": {\n        \"dtype\": \"number\",\n        \"std\": 1.0000102890714202,\n        \"min\": -25.15302300983255,\n        \"max\": 3.501672690076231,\n        \"num_unique_values\": 290,\n        \"samples\": [\n          1.0618707011347226,\n          -4.596393485984946\n        ],\n        \"semantic_type\": \"\",\n        \"description\": \"\"\n      }\n    },\n    {\n      \"column\": \"garden\",\n      \"properties\": {\n        \"dtype\": \"number\",\n        \"std\": 1.0000102890712084,\n        \"min\": -1.5234040416991839,\n        \"max\": 0.6564246730529961,\n        \"num_unique_values\": 2,\n        \"samples\": [\n          -1.5234040416991839,\n          0.6564246730529961\n        ],\n        \"semantic_type\": \"\",\n        \"description\": \"\"\n      }\n    },\n    {\n      \"column\": \"plot_area\",\n      \"properties\": {\n        \"dtype\": \"number\",\n        \"std\": 1.000010289071417,\n        \"min\": -0.1557349892078128,\n        \"max\": 107.32043653682966,\n        \"num_unique_values\": 2371,\n        \"samples\": [\n          0.043942059609720814,\n          0.625759667371155\n        ],\n        \"semantic_type\": \"\",\n        \"description\": \"\"\n      }\n    },\n    {\n      \"column\": \"num_rooms\",\n      \"properties\": {\n        \"dtype\": \"number\",\n        \"std\": 1.000010289071445,\n        \"min\": -2.297179091702683,\n        \"max\": 22.925506593297307,\n        \"num_unique_values\": 24,\n        \"samples\": [\n          5.269626613797315,\n          10.314163750797313\n        ],\n        \"semantic_type\": \"\",\n        \"description\": \"\"\n      }\n    },\n    {\n      \"column\": \"num_bathrooms\",\n      \"properties\": {\n        \"dtype\": \"number\",\n        \"std\": 1.0000102890711429,\n        \"min\": -0.25468443820262704,\n        \"max\": 17.48706578957099,\n        \"num_unique_values\": 6,\n        \"samples\": [\n          -0.25468443820262704,\n          3.2936656073520965\n        ],\n        \"semantic_type\": \"\",\n        \"description\": \"\"\n      }\n    },\n    {\n      \"column\": \"energy_label\",\n      \"properties\": {\n        \"dtype\": \"number\",\n        \"std\": 1.0000102890710787,\n        \"min\": -6.49772295677546,\n        \"max\": 3.7121141480010182,\n        \"num_unique_values\": 12,\n        \"samples\": [\n          -5.5695559472503255,\n          -2.785054918674922\n        ],\n        \"semantic_type\": \"\",\n        \"description\": \"\"\n      }\n    },\n    {\n      \"column\": \"surface_area\",\n      \"properties\": {\n        \"dtype\": \"number\",\n        \"std\": 1.0000102890714757,\n        \"min\": -2.3670520865395357,\n        \"max\": 37.018428736846886,\n        \"num_unique_values\": 470,\n        \"samples\": [\n          2.53620109289015,\n          -0.4336555076587245\n        ],\n        \"semantic_type\": \"\",\n        \"description\": \"\"\n      }\n    },\n    {\n      \"column\": \"construction_year\",\n      \"properties\": {\n        \"dtype\": \"number\",\n        \"std\": 1.0000102890711533,\n        \"min\": -8.345380595597204,\n        \"max\": 3.784913288399364,\n        \"num_unique_values\": 4,\n        \"samples\": [\n          3.784913288399364,\n          -4.301949300931682\n        ],\n        \"semantic_type\": \"\",\n        \"description\": \"\"\n      }\n    }\n  ]\n}",
       "type": "dataframe",
       "variable_name": "x"
      },
      "text/html": [
       "\n",
       "  <div id=\"df-15612ee3-e65b-44dd-9c5c-c6c72a07e57e\" class=\"colab-df-container\">\n",
       "    <div>\n",
       "<style scoped>\n",
       "    .dataframe tbody tr th:only-of-type {\n",
       "        vertical-align: middle;\n",
       "    }\n",
       "\n",
       "    .dataframe tbody tr th {\n",
       "        vertical-align: top;\n",
       "    }\n",
       "\n",
       "    .dataframe thead th {\n",
       "        text-align: right;\n",
       "    }\n",
       "</style>\n",
       "<table border=\"1\" class=\"dataframe\">\n",
       "  <thead>\n",
       "    <tr style=\"text-align: right;\">\n",
       "      <th></th>\n",
       "      <th>postal_code</th>\n",
       "      <th>category</th>\n",
       "      <th>year_built</th>\n",
       "      <th>garden</th>\n",
       "      <th>plot_area</th>\n",
       "      <th>num_rooms</th>\n",
       "      <th>num_bathrooms</th>\n",
       "      <th>energy_label</th>\n",
       "      <th>surface_area</th>\n",
       "      <th>construction_year</th>\n",
       "    </tr>\n",
       "  </thead>\n",
       "  <tbody>\n",
       "    <tr>\n",
       "      <th>0</th>\n",
       "      <td>-1.170834</td>\n",
       "      <td>0.609214</td>\n",
       "      <td>0.036635</td>\n",
       "      <td>0.656425</td>\n",
       "      <td>-0.087914</td>\n",
       "      <td>-1.036045</td>\n",
       "      <td>-0.254684</td>\n",
       "      <td>-0.000554</td>\n",
       "      <td>-1.151205</td>\n",
       "      <td>-0.258518</td>\n",
       "    </tr>\n",
       "    <tr>\n",
       "      <th>1</th>\n",
       "      <td>1.157406</td>\n",
       "      <td>0.609214</td>\n",
       "      <td>0.153434</td>\n",
       "      <td>0.656425</td>\n",
       "      <td>-0.108226</td>\n",
       "      <td>0.225089</td>\n",
       "      <td>-0.254684</td>\n",
       "      <td>-0.928721</td>\n",
       "      <td>0.323758</td>\n",
       "      <td>-0.258518</td>\n",
       "    </tr>\n",
       "    <tr>\n",
       "      <th>2</th>\n",
       "      <td>-1.456758</td>\n",
       "      <td>-1.641460</td>\n",
       "      <td>0.815295</td>\n",
       "      <td>-1.523404</td>\n",
       "      <td>-0.087914</td>\n",
       "      <td>-1.036045</td>\n",
       "      <td>-0.254684</td>\n",
       "      <td>-0.000554</td>\n",
       "      <td>-0.991749</td>\n",
       "      <td>-0.258518</td>\n",
       "    </tr>\n",
       "    <tr>\n",
       "      <th>3</th>\n",
       "      <td>0.422172</td>\n",
       "      <td>0.609214</td>\n",
       "      <td>-0.028254</td>\n",
       "      <td>0.656425</td>\n",
       "      <td>-0.075176</td>\n",
       "      <td>0.225089</td>\n",
       "      <td>-0.254684</td>\n",
       "      <td>-0.000554</td>\n",
       "      <td>0.483213</td>\n",
       "      <td>-0.258518</td>\n",
       "    </tr>\n",
       "    <tr>\n",
       "      <th>4</th>\n",
       "      <td>1.279945</td>\n",
       "      <td>0.609214</td>\n",
       "      <td>-1.922993</td>\n",
       "      <td>-1.523404</td>\n",
       "      <td>1.390041</td>\n",
       "      <td>2.116791</td>\n",
       "      <td>-0.254684</td>\n",
       "      <td>-0.000554</td>\n",
       "      <td>4.051027</td>\n",
       "      <td>-0.258518</td>\n",
       "    </tr>\n",
       "  </tbody>\n",
       "</table>\n",
       "</div>\n",
       "    <div class=\"colab-df-buttons\">\n",
       "\n",
       "  <div class=\"colab-df-container\">\n",
       "    <button class=\"colab-df-convert\" onclick=\"convertToInteractive('df-15612ee3-e65b-44dd-9c5c-c6c72a07e57e')\"\n",
       "            title=\"Convert this dataframe to an interactive table.\"\n",
       "            style=\"display:none;\">\n",
       "\n",
       "  <svg xmlns=\"http://www.w3.org/2000/svg\" height=\"24px\" viewBox=\"0 -960 960 960\">\n",
       "    <path d=\"M120-120v-720h720v720H120Zm60-500h600v-160H180v160Zm220 220h160v-160H400v160Zm0 220h160v-160H400v160ZM180-400h160v-160H180v160Zm440 0h160v-160H620v160ZM180-180h160v-160H180v160Zm440 0h160v-160H620v160Z\"/>\n",
       "  </svg>\n",
       "    </button>\n",
       "\n",
       "  <style>\n",
       "    .colab-df-container {\n",
       "      display:flex;\n",
       "      gap: 12px;\n",
       "    }\n",
       "\n",
       "    .colab-df-convert {\n",
       "      background-color: #E8F0FE;\n",
       "      border: none;\n",
       "      border-radius: 50%;\n",
       "      cursor: pointer;\n",
       "      display: none;\n",
       "      fill: #1967D2;\n",
       "      height: 32px;\n",
       "      padding: 0 0 0 0;\n",
       "      width: 32px;\n",
       "    }\n",
       "\n",
       "    .colab-df-convert:hover {\n",
       "      background-color: #E2EBFA;\n",
       "      box-shadow: 0px 1px 2px rgba(60, 64, 67, 0.3), 0px 1px 3px 1px rgba(60, 64, 67, 0.15);\n",
       "      fill: #174EA6;\n",
       "    }\n",
       "\n",
       "    .colab-df-buttons div {\n",
       "      margin-bottom: 4px;\n",
       "    }\n",
       "\n",
       "    [theme=dark] .colab-df-convert {\n",
       "      background-color: #3B4455;\n",
       "      fill: #D2E3FC;\n",
       "    }\n",
       "\n",
       "    [theme=dark] .colab-df-convert:hover {\n",
       "      background-color: #434B5C;\n",
       "      box-shadow: 0px 1px 3px 1px rgba(0, 0, 0, 0.15);\n",
       "      filter: drop-shadow(0px 1px 2px rgba(0, 0, 0, 0.3));\n",
       "      fill: #FFFFFF;\n",
       "    }\n",
       "  </style>\n",
       "\n",
       "    <script>\n",
       "      const buttonEl =\n",
       "        document.querySelector('#df-15612ee3-e65b-44dd-9c5c-c6c72a07e57e button.colab-df-convert');\n",
       "      buttonEl.style.display =\n",
       "        google.colab.kernel.accessAllowed ? 'block' : 'none';\n",
       "\n",
       "      async function convertToInteractive(key) {\n",
       "        const element = document.querySelector('#df-15612ee3-e65b-44dd-9c5c-c6c72a07e57e');\n",
       "        const dataTable =\n",
       "          await google.colab.kernel.invokeFunction('convertToInteractive',\n",
       "                                                    [key], {});\n",
       "        if (!dataTable) return;\n",
       "\n",
       "        const docLinkHtml = 'Like what you see? Visit the ' +\n",
       "          '<a target=\"_blank\" href=https://colab.research.google.com/notebooks/data_table.ipynb>data table notebook</a>'\n",
       "          + ' to learn more about interactive tables.';\n",
       "        element.innerHTML = '';\n",
       "        dataTable['output_type'] = 'display_data';\n",
       "        await google.colab.output.renderOutput(dataTable, element);\n",
       "        const docLink = document.createElement('div');\n",
       "        docLink.innerHTML = docLinkHtml;\n",
       "        element.appendChild(docLink);\n",
       "      }\n",
       "    </script>\n",
       "  </div>\n",
       "\n",
       "\n",
       "<div id=\"df-05c0b9a6-daba-441f-bb21-feb522b31b07\">\n",
       "  <button class=\"colab-df-quickchart\" onclick=\"quickchart('df-05c0b9a6-daba-441f-bb21-feb522b31b07')\"\n",
       "            title=\"Suggest charts\"\n",
       "            style=\"display:none;\">\n",
       "\n",
       "<svg xmlns=\"http://www.w3.org/2000/svg\" height=\"24px\"viewBox=\"0 0 24 24\"\n",
       "     width=\"24px\">\n",
       "    <g>\n",
       "        <path d=\"M19 3H5c-1.1 0-2 .9-2 2v14c0 1.1.9 2 2 2h14c1.1 0 2-.9 2-2V5c0-1.1-.9-2-2-2zM9 17H7v-7h2v7zm4 0h-2V7h2v10zm4 0h-2v-4h2v4z\"/>\n",
       "    </g>\n",
       "</svg>\n",
       "  </button>\n",
       "\n",
       "<style>\n",
       "  .colab-df-quickchart {\n",
       "      --bg-color: #E8F0FE;\n",
       "      --fill-color: #1967D2;\n",
       "      --hover-bg-color: #E2EBFA;\n",
       "      --hover-fill-color: #174EA6;\n",
       "      --disabled-fill-color: #AAA;\n",
       "      --disabled-bg-color: #DDD;\n",
       "  }\n",
       "\n",
       "  [theme=dark] .colab-df-quickchart {\n",
       "      --bg-color: #3B4455;\n",
       "      --fill-color: #D2E3FC;\n",
       "      --hover-bg-color: #434B5C;\n",
       "      --hover-fill-color: #FFFFFF;\n",
       "      --disabled-bg-color: #3B4455;\n",
       "      --disabled-fill-color: #666;\n",
       "  }\n",
       "\n",
       "  .colab-df-quickchart {\n",
       "    background-color: var(--bg-color);\n",
       "    border: none;\n",
       "    border-radius: 50%;\n",
       "    cursor: pointer;\n",
       "    display: none;\n",
       "    fill: var(--fill-color);\n",
       "    height: 32px;\n",
       "    padding: 0;\n",
       "    width: 32px;\n",
       "  }\n",
       "\n",
       "  .colab-df-quickchart:hover {\n",
       "    background-color: var(--hover-bg-color);\n",
       "    box-shadow: 0 1px 2px rgba(60, 64, 67, 0.3), 0 1px 3px 1px rgba(60, 64, 67, 0.15);\n",
       "    fill: var(--button-hover-fill-color);\n",
       "  }\n",
       "\n",
       "  .colab-df-quickchart-complete:disabled,\n",
       "  .colab-df-quickchart-complete:disabled:hover {\n",
       "    background-color: var(--disabled-bg-color);\n",
       "    fill: var(--disabled-fill-color);\n",
       "    box-shadow: none;\n",
       "  }\n",
       "\n",
       "  .colab-df-spinner {\n",
       "    border: 2px solid var(--fill-color);\n",
       "    border-color: transparent;\n",
       "    border-bottom-color: var(--fill-color);\n",
       "    animation:\n",
       "      spin 1s steps(1) infinite;\n",
       "  }\n",
       "\n",
       "  @keyframes spin {\n",
       "    0% {\n",
       "      border-color: transparent;\n",
       "      border-bottom-color: var(--fill-color);\n",
       "      border-left-color: var(--fill-color);\n",
       "    }\n",
       "    20% {\n",
       "      border-color: transparent;\n",
       "      border-left-color: var(--fill-color);\n",
       "      border-top-color: var(--fill-color);\n",
       "    }\n",
       "    30% {\n",
       "      border-color: transparent;\n",
       "      border-left-color: var(--fill-color);\n",
       "      border-top-color: var(--fill-color);\n",
       "      border-right-color: var(--fill-color);\n",
       "    }\n",
       "    40% {\n",
       "      border-color: transparent;\n",
       "      border-right-color: var(--fill-color);\n",
       "      border-top-color: var(--fill-color);\n",
       "    }\n",
       "    60% {\n",
       "      border-color: transparent;\n",
       "      border-right-color: var(--fill-color);\n",
       "    }\n",
       "    80% {\n",
       "      border-color: transparent;\n",
       "      border-right-color: var(--fill-color);\n",
       "      border-bottom-color: var(--fill-color);\n",
       "    }\n",
       "    90% {\n",
       "      border-color: transparent;\n",
       "      border-bottom-color: var(--fill-color);\n",
       "    }\n",
       "  }\n",
       "</style>\n",
       "\n",
       "  <script>\n",
       "    async function quickchart(key) {\n",
       "      const quickchartButtonEl =\n",
       "        document.querySelector('#' + key + ' button');\n",
       "      quickchartButtonEl.disabled = true;  // To prevent multiple clicks.\n",
       "      quickchartButtonEl.classList.add('colab-df-spinner');\n",
       "      try {\n",
       "        const charts = await google.colab.kernel.invokeFunction(\n",
       "            'suggestCharts', [key], {});\n",
       "      } catch (error) {\n",
       "        console.error('Error during call to suggestCharts:', error);\n",
       "      }\n",
       "      quickchartButtonEl.classList.remove('colab-df-spinner');\n",
       "      quickchartButtonEl.classList.add('colab-df-quickchart-complete');\n",
       "    }\n",
       "    (() => {\n",
       "      let quickchartButtonEl =\n",
       "        document.querySelector('#df-05c0b9a6-daba-441f-bb21-feb522b31b07 button');\n",
       "      quickchartButtonEl.style.display =\n",
       "        google.colab.kernel.accessAllowed ? 'block' : 'none';\n",
       "    })();\n",
       "  </script>\n",
       "</div>\n",
       "\n",
       "    </div>\n",
       "  </div>\n"
      ],
      "text/plain": [
       "   postal_code  category  year_built    garden  plot_area  num_rooms  \\\n",
       "0    -1.170834  0.609214    0.036635  0.656425  -0.087914  -1.036045   \n",
       "1     1.157406  0.609214    0.153434  0.656425  -0.108226   0.225089   \n",
       "2    -1.456758 -1.641460    0.815295 -1.523404  -0.087914  -1.036045   \n",
       "3     0.422172  0.609214   -0.028254  0.656425  -0.075176   0.225089   \n",
       "4     1.279945  0.609214   -1.922993 -1.523404   1.390041   2.116791   \n",
       "\n",
       "   num_bathrooms  energy_label  surface_area  construction_year  \n",
       "0      -0.254684     -0.000554     -1.151205          -0.258518  \n",
       "1      -0.254684     -0.928721      0.323758          -0.258518  \n",
       "2      -0.254684     -0.000554     -0.991749          -0.258518  \n",
       "3      -0.254684     -0.000554      0.483213          -0.258518  \n",
       "4      -0.254684     -0.000554      4.051027          -0.258518  "
      ]
     },
     "execution_count": 360,
     "metadata": {},
     "output_type": "execute_result"
    }
   ],
   "source": [
    "x.head()"
   ]
  },
  {
   "cell_type": "code",
   "execution_count": 361,
   "id": "20f80c21-8dc2-452e-aace-448fbd51a1b1",
   "metadata": {
    "colab": {
     "base_uri": "https://localhost:8080/",
     "height": 398
    },
    "id": "20f80c21-8dc2-452e-aace-448fbd51a1b1",
    "outputId": "31f004b0-2f7e-432d-bae1-8b77aa1aac46"
   },
   "outputs": [
    {
     "data": {
      "text/html": [
       "<div>\n",
       "<style scoped>\n",
       "    .dataframe tbody tr th:only-of-type {\n",
       "        vertical-align: middle;\n",
       "    }\n",
       "\n",
       "    .dataframe tbody tr th {\n",
       "        vertical-align: top;\n",
       "    }\n",
       "\n",
       "    .dataframe thead th {\n",
       "        text-align: right;\n",
       "    }\n",
       "</style>\n",
       "<table border=\"1\" class=\"dataframe\">\n",
       "  <thead>\n",
       "    <tr style=\"text-align: right;\">\n",
       "      <th></th>\n",
       "      <th>0</th>\n",
       "    </tr>\n",
       "  </thead>\n",
       "  <tbody>\n",
       "    <tr>\n",
       "      <th>postal_code</th>\n",
       "      <td>0</td>\n",
       "    </tr>\n",
       "    <tr>\n",
       "      <th>category</th>\n",
       "      <td>0</td>\n",
       "    </tr>\n",
       "    <tr>\n",
       "      <th>year_built</th>\n",
       "      <td>0</td>\n",
       "    </tr>\n",
       "    <tr>\n",
       "      <th>garden</th>\n",
       "      <td>0</td>\n",
       "    </tr>\n",
       "    <tr>\n",
       "      <th>plot_area</th>\n",
       "      <td>0</td>\n",
       "    </tr>\n",
       "    <tr>\n",
       "      <th>num_rooms</th>\n",
       "      <td>0</td>\n",
       "    </tr>\n",
       "    <tr>\n",
       "      <th>num_bathrooms</th>\n",
       "      <td>0</td>\n",
       "    </tr>\n",
       "    <tr>\n",
       "      <th>energy_label</th>\n",
       "      <td>0</td>\n",
       "    </tr>\n",
       "    <tr>\n",
       "      <th>surface_area</th>\n",
       "      <td>0</td>\n",
       "    </tr>\n",
       "    <tr>\n",
       "      <th>construction_year</th>\n",
       "      <td>0</td>\n",
       "    </tr>\n",
       "  </tbody>\n",
       "</table>\n",
       "</div><br><label><b>dtype:</b> int64</label>"
      ],
      "text/plain": [
       "postal_code          0\n",
       "category             0\n",
       "year_built           0\n",
       "garden               0\n",
       "plot_area            0\n",
       "num_rooms            0\n",
       "num_bathrooms        0\n",
       "energy_label         0\n",
       "surface_area         0\n",
       "construction_year    0\n",
       "dtype: int64"
      ]
     },
     "execution_count": 361,
     "metadata": {},
     "output_type": "execute_result"
    }
   ],
   "source": [
    "x.isnull().sum()"
   ]
  },
  {
   "cell_type": "code",
   "execution_count": 362,
   "id": "358865a6-e914-43b5-9c45-816054933075",
   "metadata": {
    "colab": {
     "base_uri": "https://localhost:8080/"
    },
    "id": "358865a6-e914-43b5-9c45-816054933075",
    "outputId": "c9585d06-2032-4809-d004-fd5806c460fb"
   },
   "outputs": [
    {
     "data": {
      "text/plain": [
       "0"
      ]
     },
     "execution_count": 362,
     "metadata": {},
     "output_type": "execute_result"
    }
   ],
   "source": [
    "y.isnull().sum()"
   ]
  },
  {
   "cell_type": "code",
   "execution_count": 363,
   "id": "8d64dc6c-3c1c-4c84-b1da-dcf0328cf00a",
   "metadata": {
    "colab": {
     "base_uri": "https://localhost:8080/"
    },
    "id": "8d64dc6c-3c1c-4c84-b1da-dcf0328cf00a",
    "outputId": "f76634c7-aa4e-4a2b-8f9e-b8ba60802bb5"
   },
   "outputs": [
    {
     "data": {
      "text/plain": [
       "(48596, 10)"
      ]
     },
     "execution_count": 363,
     "metadata": {},
     "output_type": "execute_result"
    }
   ],
   "source": [
    "x.shape"
   ]
  },
  {
   "cell_type": "code",
   "execution_count": 364,
   "id": "5ef0132a-4cce-4f5b-bf09-317052228a71",
   "metadata": {
    "colab": {
     "base_uri": "https://localhost:8080/"
    },
    "id": "5ef0132a-4cce-4f5b-bf09-317052228a71",
    "outputId": "1ad945c9-b7d5-4014-a4a8-bd6c7e69bcd1"
   },
   "outputs": [
    {
     "data": {
      "text/plain": [
       "(48596,)"
      ]
     },
     "execution_count": 364,
     "metadata": {},
     "output_type": "execute_result"
    }
   ],
   "source": [
    "y.shape"
   ]
  },
  {
   "cell_type": "code",
   "execution_count": 365,
   "id": "b4c0987c-c1bb-42fb-aca9-d86af9423016",
   "metadata": {
    "id": "b4c0987c-c1bb-42fb-aca9-d86af9423016"
   },
   "outputs": [],
   "source": [
    "from sklearn.model_selection import train_test_split\n",
    "x_train,x_test,y_train,y_test=train_test_split(x,y,test_size=0.2,random_state=42)"
   ]
  },
  {
   "cell_type": "code",
   "execution_count": 366,
   "id": "a6672029-739e-4130-b4f9-3816c3b2345a",
   "metadata": {
    "id": "a6672029-739e-4130-b4f9-3816c3b2345a"
   },
   "outputs": [],
   "source": [
    "import tensorflow as tf"
   ]
  },
  {
   "cell_type": "code",
   "execution_count": 367,
   "id": "c70fc044-d24e-4e5a-ab2d-d08b523a7e45",
   "metadata": {
    "id": "c70fc044-d24e-4e5a-ab2d-d08b523a7e45"
   },
   "outputs": [],
   "source": [
    "from tensorflow import keras"
   ]
  },
  {
   "cell_type": "code",
   "execution_count": 368,
   "id": "0af7909d-cdf6-4019-9272-81acfc7d8821",
   "metadata": {
    "colab": {
     "base_uri": "https://localhost:8080/"
    },
    "id": "0af7909d-cdf6-4019-9272-81acfc7d8821",
    "outputId": "973a35e7-27ab-47be-8b5d-943458dc137f"
   },
   "outputs": [
    {
     "data": {
      "text/plain": [
       "(38876, 10)"
      ]
     },
     "execution_count": 368,
     "metadata": {},
     "output_type": "execute_result"
    }
   ],
   "source": [
    "x_train.shape"
   ]
  },
  {
   "cell_type": "code",
   "execution_count": 369,
   "id": "3f814700-424e-4775-aa0e-e57b0d4f29a0",
   "metadata": {
    "colab": {
     "base_uri": "https://localhost:8080/"
    },
    "id": "3f814700-424e-4775-aa0e-e57b0d4f29a0",
    "outputId": "3002c263-a545-41c6-f099-04cf8f4c8d33"
   },
   "outputs": [
    {
     "data": {
      "text/plain": [
       "10"
      ]
     },
     "execution_count": 369,
     "metadata": {},
     "output_type": "execute_result"
    }
   ],
   "source": [
    "x_train.shape[1]"
   ]
  },
  {
   "cell_type": "code",
   "execution_count": 370,
   "id": "da3ef030-e9ff-4aab-9b4a-672bf9f25f85",
   "metadata": {
    "colab": {
     "base_uri": "https://localhost:8080/"
    },
    "id": "da3ef030-e9ff-4aab-9b4a-672bf9f25f85",
    "outputId": "7f8f52a4-4f7e-4b25-9e75-c5dd6723c239"
   },
   "outputs": [
    {
     "name": "stderr",
     "output_type": "stream",
     "text": [
      "/usr/local/lib/python3.11/dist-packages/keras/src/layers/core/dense.py:87: UserWarning: Do not pass an `input_shape`/`input_dim` argument to a layer. When using Sequential models, prefer using an `Input(shape)` object as the first layer in the model instead.\n",
      "  super().__init__(activity_regularizer=activity_regularizer, **kwargs)\n"
     ]
    }
   ],
   "source": [
    "model = keras.Sequential([\n",
    "\n",
    "    keras.layers.Dense(256, activation=\"relu\",input_shape=(10,),kernel_regularizer=tf.keras.regularizers.l2(0.0001)),\n",
    "\n",
    "    keras.layers.Dense(128, activation=\"relu\",kernel_regularizer=tf.keras.regularizers.l2(0.001)),\n",
    "\n",
    "    keras.layers.Dense(64, activation=\"relu\",kernel_regularizer=tf.keras.regularizers.l2(0.001)),\n",
    "\n",
    "    keras.layers.Dense(32, activation=\"relu\",kernel_regularizer=tf.keras.regularizers.l2(0.001)),\n",
    "     keras.layers.Dense(16, activation=\"relu\",kernel_regularizer=tf.keras.regularizers.l2(0.001)),\n",
    "    keras.layers.Dense(8, activation=\"relu\",kernel_regularizer=tf.keras.regularizers.l2(0.001)),\n",
    "\n",
    "\n",
    "    keras.layers.Dense(1,activation=\"linear\",kernel_regularizer=tf.keras.regularizers.l2(0.001))  # Output layer (for regression)\n",
    "])\n"
   ]
  },
  {
   "cell_type": "code",
   "execution_count": 371,
   "id": "f57af27b-248e-44f7-8aa3-3c30e3c951d0",
   "metadata": {
    "colab": {
     "base_uri": "https://localhost:8080/",
     "height": 374
    },
    "id": "f57af27b-248e-44f7-8aa3-3c30e3c951d0",
    "outputId": "5b69242d-f955-4853-dc11-ca7dd95e0604"
   },
   "outputs": [
    {
     "data": {
      "text/html": [
       "<pre style=\"white-space:pre;overflow-x:auto;line-height:normal;font-family:Menlo,'DejaVu Sans Mono',consolas,'Courier New',monospace\"><span style=\"font-weight: bold\">Model: \"sequential_20\"</span>\n",
       "</pre>\n"
      ],
      "text/plain": [
       "\u001b[1mModel: \"sequential_20\"\u001b[0m\n"
      ]
     },
     "metadata": {},
     "output_type": "display_data"
    },
    {
     "data": {
      "text/html": [
       "<pre style=\"white-space:pre;overflow-x:auto;line-height:normal;font-family:Menlo,'DejaVu Sans Mono',consolas,'Courier New',monospace\">┏━━━━━━━━━━━━━━━━━━━━━━━━━━━━━━━━━━━━━━┳━━━━━━━━━━━━━━━━━━━━━━━━━━━━━┳━━━━━━━━━━━━━━━━━┓\n",
       "┃<span style=\"font-weight: bold\"> Layer (type)                         </span>┃<span style=\"font-weight: bold\"> Output Shape                </span>┃<span style=\"font-weight: bold\">         Param # </span>┃\n",
       "┡━━━━━━━━━━━━━━━━━━━━━━━━━━━━━━━━━━━━━━╇━━━━━━━━━━━━━━━━━━━━━━━━━━━━━╇━━━━━━━━━━━━━━━━━┩\n",
       "│ dense_124 (<span style=\"color: #0087ff; text-decoration-color: #0087ff\">Dense</span>)                    │ (<span style=\"color: #00d7ff; text-decoration-color: #00d7ff\">None</span>, <span style=\"color: #00af00; text-decoration-color: #00af00\">256</span>)                 │           <span style=\"color: #00af00; text-decoration-color: #00af00\">2,816</span> │\n",
       "├──────────────────────────────────────┼─────────────────────────────┼─────────────────┤\n",
       "│ dense_125 (<span style=\"color: #0087ff; text-decoration-color: #0087ff\">Dense</span>)                    │ (<span style=\"color: #00d7ff; text-decoration-color: #00d7ff\">None</span>, <span style=\"color: #00af00; text-decoration-color: #00af00\">128</span>)                 │          <span style=\"color: #00af00; text-decoration-color: #00af00\">32,896</span> │\n",
       "├──────────────────────────────────────┼─────────────────────────────┼─────────────────┤\n",
       "│ dense_126 (<span style=\"color: #0087ff; text-decoration-color: #0087ff\">Dense</span>)                    │ (<span style=\"color: #00d7ff; text-decoration-color: #00d7ff\">None</span>, <span style=\"color: #00af00; text-decoration-color: #00af00\">64</span>)                  │           <span style=\"color: #00af00; text-decoration-color: #00af00\">8,256</span> │\n",
       "├──────────────────────────────────────┼─────────────────────────────┼─────────────────┤\n",
       "│ dense_127 (<span style=\"color: #0087ff; text-decoration-color: #0087ff\">Dense</span>)                    │ (<span style=\"color: #00d7ff; text-decoration-color: #00d7ff\">None</span>, <span style=\"color: #00af00; text-decoration-color: #00af00\">32</span>)                  │           <span style=\"color: #00af00; text-decoration-color: #00af00\">2,080</span> │\n",
       "├──────────────────────────────────────┼─────────────────────────────┼─────────────────┤\n",
       "│ dense_128 (<span style=\"color: #0087ff; text-decoration-color: #0087ff\">Dense</span>)                    │ (<span style=\"color: #00d7ff; text-decoration-color: #00d7ff\">None</span>, <span style=\"color: #00af00; text-decoration-color: #00af00\">16</span>)                  │             <span style=\"color: #00af00; text-decoration-color: #00af00\">528</span> │\n",
       "├──────────────────────────────────────┼─────────────────────────────┼─────────────────┤\n",
       "│ dense_129 (<span style=\"color: #0087ff; text-decoration-color: #0087ff\">Dense</span>)                    │ (<span style=\"color: #00d7ff; text-decoration-color: #00d7ff\">None</span>, <span style=\"color: #00af00; text-decoration-color: #00af00\">8</span>)                   │             <span style=\"color: #00af00; text-decoration-color: #00af00\">136</span> │\n",
       "├──────────────────────────────────────┼─────────────────────────────┼─────────────────┤\n",
       "│ dense_130 (<span style=\"color: #0087ff; text-decoration-color: #0087ff\">Dense</span>)                    │ (<span style=\"color: #00d7ff; text-decoration-color: #00d7ff\">None</span>, <span style=\"color: #00af00; text-decoration-color: #00af00\">1</span>)                   │               <span style=\"color: #00af00; text-decoration-color: #00af00\">9</span> │\n",
       "└──────────────────────────────────────┴─────────────────────────────┴─────────────────┘\n",
       "</pre>\n"
      ],
      "text/plain": [
       "┏━━━━━━━━━━━━━━━━━━━━━━━━━━━━━━━━━━━━━━┳━━━━━━━━━━━━━━━━━━━━━━━━━━━━━┳━━━━━━━━━━━━━━━━━┓\n",
       "┃\u001b[1m \u001b[0m\u001b[1mLayer (type)                        \u001b[0m\u001b[1m \u001b[0m┃\u001b[1m \u001b[0m\u001b[1mOutput Shape               \u001b[0m\u001b[1m \u001b[0m┃\u001b[1m \u001b[0m\u001b[1m        Param #\u001b[0m\u001b[1m \u001b[0m┃\n",
       "┡━━━━━━━━━━━━━━━━━━━━━━━━━━━━━━━━━━━━━━╇━━━━━━━━━━━━━━━━━━━━━━━━━━━━━╇━━━━━━━━━━━━━━━━━┩\n",
       "│ dense_124 (\u001b[38;5;33mDense\u001b[0m)                    │ (\u001b[38;5;45mNone\u001b[0m, \u001b[38;5;34m256\u001b[0m)                 │           \u001b[38;5;34m2,816\u001b[0m │\n",
       "├──────────────────────────────────────┼─────────────────────────────┼─────────────────┤\n",
       "│ dense_125 (\u001b[38;5;33mDense\u001b[0m)                    │ (\u001b[38;5;45mNone\u001b[0m, \u001b[38;5;34m128\u001b[0m)                 │          \u001b[38;5;34m32,896\u001b[0m │\n",
       "├──────────────────────────────────────┼─────────────────────────────┼─────────────────┤\n",
       "│ dense_126 (\u001b[38;5;33mDense\u001b[0m)                    │ (\u001b[38;5;45mNone\u001b[0m, \u001b[38;5;34m64\u001b[0m)                  │           \u001b[38;5;34m8,256\u001b[0m │\n",
       "├──────────────────────────────────────┼─────────────────────────────┼─────────────────┤\n",
       "│ dense_127 (\u001b[38;5;33mDense\u001b[0m)                    │ (\u001b[38;5;45mNone\u001b[0m, \u001b[38;5;34m32\u001b[0m)                  │           \u001b[38;5;34m2,080\u001b[0m │\n",
       "├──────────────────────────────────────┼─────────────────────────────┼─────────────────┤\n",
       "│ dense_128 (\u001b[38;5;33mDense\u001b[0m)                    │ (\u001b[38;5;45mNone\u001b[0m, \u001b[38;5;34m16\u001b[0m)                  │             \u001b[38;5;34m528\u001b[0m │\n",
       "├──────────────────────────────────────┼─────────────────────────────┼─────────────────┤\n",
       "│ dense_129 (\u001b[38;5;33mDense\u001b[0m)                    │ (\u001b[38;5;45mNone\u001b[0m, \u001b[38;5;34m8\u001b[0m)                   │             \u001b[38;5;34m136\u001b[0m │\n",
       "├──────────────────────────────────────┼─────────────────────────────┼─────────────────┤\n",
       "│ dense_130 (\u001b[38;5;33mDense\u001b[0m)                    │ (\u001b[38;5;45mNone\u001b[0m, \u001b[38;5;34m1\u001b[0m)                   │               \u001b[38;5;34m9\u001b[0m │\n",
       "└──────────────────────────────────────┴─────────────────────────────┴─────────────────┘\n"
      ]
     },
     "metadata": {},
     "output_type": "display_data"
    },
    {
     "data": {
      "text/html": [
       "<pre style=\"white-space:pre;overflow-x:auto;line-height:normal;font-family:Menlo,'DejaVu Sans Mono',consolas,'Courier New',monospace\"><span style=\"font-weight: bold\"> Total params: </span><span style=\"color: #00af00; text-decoration-color: #00af00\">46,721</span> (182.50 KB)\n",
       "</pre>\n"
      ],
      "text/plain": [
       "\u001b[1m Total params: \u001b[0m\u001b[38;5;34m46,721\u001b[0m (182.50 KB)\n"
      ]
     },
     "metadata": {},
     "output_type": "display_data"
    },
    {
     "data": {
      "text/html": [
       "<pre style=\"white-space:pre;overflow-x:auto;line-height:normal;font-family:Menlo,'DejaVu Sans Mono',consolas,'Courier New',monospace\"><span style=\"font-weight: bold\"> Trainable params: </span><span style=\"color: #00af00; text-decoration-color: #00af00\">46,721</span> (182.50 KB)\n",
       "</pre>\n"
      ],
      "text/plain": [
       "\u001b[1m Trainable params: \u001b[0m\u001b[38;5;34m46,721\u001b[0m (182.50 KB)\n"
      ]
     },
     "metadata": {},
     "output_type": "display_data"
    },
    {
     "data": {
      "text/html": [
       "<pre style=\"white-space:pre;overflow-x:auto;line-height:normal;font-family:Menlo,'DejaVu Sans Mono',consolas,'Courier New',monospace\"><span style=\"font-weight: bold\"> Non-trainable params: </span><span style=\"color: #00af00; text-decoration-color: #00af00\">0</span> (0.00 B)\n",
       "</pre>\n"
      ],
      "text/plain": [
       "\u001b[1m Non-trainable params: \u001b[0m\u001b[38;5;34m0\u001b[0m (0.00 B)\n"
      ]
     },
     "metadata": {},
     "output_type": "display_data"
    }
   ],
   "source": [
    "model.summary()"
   ]
  },
  {
   "cell_type": "code",
   "execution_count": 372,
   "id": "db8c2e3c-28e8-4920-a104-90369cf0a129",
   "metadata": {
    "id": "db8c2e3c-28e8-4920-a104-90369cf0a129"
   },
   "outputs": [],
   "source": [
    "optimizer = tf.keras.optimizers.Adam(learning_rate=0.001)"
   ]
  },
  {
   "cell_type": "code",
   "execution_count": 373,
   "id": "244b78e7-4975-42df-a3fe-ac1798014c6c",
   "metadata": {
    "id": "244b78e7-4975-42df-a3fe-ac1798014c6c"
   },
   "outputs": [],
   "source": [
    "model.compile(optimizer=optimizer,loss=\"mae\",metrics=[\"mae\"])"
   ]
  },
  {
   "cell_type": "code",
   "execution_count": 374,
   "id": "8feac1ab-05de-4768-aeb8-682cea862077",
   "metadata": {
    "id": "8feac1ab-05de-4768-aeb8-682cea862077"
   },
   "outputs": [],
   "source": [
    "call_back=keras.callbacks.EarlyStopping(\n",
    "    monitor=\"val_loss\",\n",
    "    min_delta=0,\n",
    "    patience=3,\n",
    "    verbose=0,\n",
    "    mode=\"auto\",\n",
    "    baseline=None,\n",
    "    restore_best_weights=False,\n",
    "    start_from_epoch=0,\n",
    ")"
   ]
  },
  {
   "cell_type": "code",
   "execution_count": 375,
   "id": "9bd1a63f-133d-45aa-8f10-0168b0430e1c",
   "metadata": {
    "colab": {
     "base_uri": "https://localhost:8080/"
    },
    "id": "9bd1a63f-133d-45aa-8f10-0168b0430e1c",
    "outputId": "e70037e9-9f36-427a-dcb8-1c6bf46c5128"
   },
   "outputs": [
    {
     "name": "stdout",
     "output_type": "stream",
     "text": [
      "Epoch 1/50\n",
      "\u001b[1m1215/1215\u001b[0m \u001b[32m━━━━━━━━━━━━━━━━━━━━\u001b[0m\u001b[37m\u001b[0m \u001b[1m10s\u001b[0m 5ms/step - loss: 0.5851 - mae: 0.3887 - val_loss: 0.4119 - val_mae: 0.3564\n",
      "Epoch 2/50\n",
      "\u001b[1m1215/1215\u001b[0m \u001b[32m━━━━━━━━━━━━━━━━━━━━\u001b[0m\u001b[37m\u001b[0m \u001b[1m6s\u001b[0m 3ms/step - loss: 0.3911 - mae: 0.3446 - val_loss: 0.3774 - val_mae: 0.3467\n",
      "Epoch 3/50\n",
      "\u001b[1m1215/1215\u001b[0m \u001b[32m━━━━━━━━━━━━━━━━━━━━\u001b[0m\u001b[37m\u001b[0m \u001b[1m5s\u001b[0m 4ms/step - loss: 0.3606 - mae: 0.3316 - val_loss: 0.3613 - val_mae: 0.3359\n",
      "Epoch 4/50\n",
      "\u001b[1m1215/1215\u001b[0m \u001b[32m━━━━━━━━━━━━━━━━━━━━\u001b[0m\u001b[37m\u001b[0m \u001b[1m4s\u001b[0m 3ms/step - loss: 0.3552 - mae: 0.3309 - val_loss: 0.3611 - val_mae: 0.3389\n",
      "Epoch 5/50\n",
      "\u001b[1m1215/1215\u001b[0m \u001b[32m━━━━━━━━━━━━━━━━━━━━\u001b[0m\u001b[37m\u001b[0m \u001b[1m4s\u001b[0m 3ms/step - loss: 0.3509 - mae: 0.3288 - val_loss: 0.3580 - val_mae: 0.3373\n",
      "Epoch 6/50\n",
      "\u001b[1m1215/1215\u001b[0m \u001b[32m━━━━━━━━━━━━━━━━━━━━\u001b[0m\u001b[37m\u001b[0m \u001b[1m5s\u001b[0m 4ms/step - loss: 0.3513 - mae: 0.3306 - val_loss: 0.3526 - val_mae: 0.3324\n",
      "Epoch 7/50\n",
      "\u001b[1m1215/1215\u001b[0m \u001b[32m━━━━━━━━━━━━━━━━━━━━\u001b[0m\u001b[37m\u001b[0m \u001b[1m4s\u001b[0m 3ms/step - loss: 0.3461 - mae: 0.3260 - val_loss: 0.3588 - val_mae: 0.3396\n",
      "Epoch 8/50\n",
      "\u001b[1m1215/1215\u001b[0m \u001b[32m━━━━━━━━━━━━━━━━━━━━\u001b[0m\u001b[37m\u001b[0m \u001b[1m4s\u001b[0m 3ms/step - loss: 0.3383 - mae: 0.3188 - val_loss: 0.3670 - val_mae: 0.3476\n",
      "Epoch 9/50\n",
      "\u001b[1m1215/1215\u001b[0m \u001b[32m━━━━━━━━━━━━━━━━━━━━\u001b[0m\u001b[37m\u001b[0m \u001b[1m4s\u001b[0m 3ms/step - loss: 0.3379 - mae: 0.3186 - val_loss: 0.3512 - val_mae: 0.3316\n",
      "Epoch 10/50\n",
      "\u001b[1m1215/1215\u001b[0m \u001b[32m━━━━━━━━━━━━━━━━━━━━\u001b[0m\u001b[37m\u001b[0m \u001b[1m4s\u001b[0m 3ms/step - loss: 0.3419 - mae: 0.3225 - val_loss: 0.3496 - val_mae: 0.3307\n",
      "Epoch 11/50\n",
      "\u001b[1m1215/1215\u001b[0m \u001b[32m━━━━━━━━━━━━━━━━━━━━\u001b[0m\u001b[37m\u001b[0m \u001b[1m4s\u001b[0m 3ms/step - loss: 0.3376 - mae: 0.3186 - val_loss: 0.3459 - val_mae: 0.3269\n",
      "Epoch 12/50\n",
      "\u001b[1m1215/1215\u001b[0m \u001b[32m━━━━━━━━━━━━━━━━━━━━\u001b[0m\u001b[37m\u001b[0m \u001b[1m6s\u001b[0m 3ms/step - loss: 0.3347 - mae: 0.3157 - val_loss: 0.3664 - val_mae: 0.3476\n",
      "Epoch 13/50\n",
      "\u001b[1m1215/1215\u001b[0m \u001b[32m━━━━━━━━━━━━━━━━━━━━\u001b[0m\u001b[37m\u001b[0m \u001b[1m4s\u001b[0m 3ms/step - loss: 0.3379 - mae: 0.3190 - val_loss: 0.3498 - val_mae: 0.3309\n",
      "Epoch 14/50\n",
      "\u001b[1m1215/1215\u001b[0m \u001b[32m━━━━━━━━━━━━━━━━━━━━\u001b[0m\u001b[37m\u001b[0m \u001b[1m4s\u001b[0m 3ms/step - loss: 0.3335 - mae: 0.3144 - val_loss: 0.3389 - val_mae: 0.3197\n",
      "Epoch 15/50\n",
      "\u001b[1m1215/1215\u001b[0m \u001b[32m━━━━━━━━━━━━━━━━━━━━\u001b[0m\u001b[37m\u001b[0m \u001b[1m4s\u001b[0m 3ms/step - loss: 0.3308 - mae: 0.3117 - val_loss: 0.3431 - val_mae: 0.3241\n",
      "Epoch 16/50\n",
      "\u001b[1m1215/1215\u001b[0m \u001b[32m━━━━━━━━━━━━━━━━━━━━\u001b[0m\u001b[37m\u001b[0m \u001b[1m5s\u001b[0m 3ms/step - loss: 0.3326 - mae: 0.3135 - val_loss: 0.3418 - val_mae: 0.3224\n",
      "Epoch 17/50\n",
      "\u001b[1m1215/1215\u001b[0m \u001b[32m━━━━━━━━━━━━━━━━━━━━\u001b[0m\u001b[37m\u001b[0m \u001b[1m4s\u001b[0m 3ms/step - loss: 0.3263 - mae: 0.3070 - val_loss: 0.3440 - val_mae: 0.3247\n"
     ]
    }
   ],
   "source": [
    "history=model.fit(x_train,y_train,validation_data=(x_test,y_test),epochs=50,callbacks=[call_back])"
   ]
  },
  {
   "cell_type": "code",
   "execution_count": 376,
   "id": "e4e9ba9c-bab2-49af-9cb3-22ccf335682d",
   "metadata": {
    "colab": {
     "base_uri": "https://localhost:8080/"
    },
    "id": "e4e9ba9c-bab2-49af-9cb3-22ccf335682d",
    "outputId": "4322e70d-2046-40d2-99ab-c4cd6e9a4eb5"
   },
   "outputs": [
    {
     "name": "stdout",
     "output_type": "stream",
     "text": [
      "\u001b[1m1215/1215\u001b[0m \u001b[32m━━━━━━━━━━━━━━━━━━━━\u001b[0m\u001b[37m\u001b[0m \u001b[1m3s\u001b[0m 3ms/step - loss: 0.3287 - mae: 0.3094\n"
     ]
    },
    {
     "data": {
      "text/plain": [
       "[0.32710883021354675, 0.3078511655330658]"
      ]
     },
     "execution_count": 376,
     "metadata": {},
     "output_type": "execute_result"
    }
   ],
   "source": [
    "train_mse=model.evaluate(x_train,y_train)\n",
    "train_mse"
   ]
  },
  {
   "cell_type": "code",
   "execution_count": 377,
   "id": "14e8abf6-c584-447d-8a59-703390d92aa3",
   "metadata": {
    "colab": {
     "base_uri": "https://localhost:8080/"
    },
    "id": "14e8abf6-c584-447d-8a59-703390d92aa3",
    "outputId": "f0c73ae7-f1c2-45aa-cb61-8d3ac8a3d102"
   },
   "outputs": [
    {
     "name": "stdout",
     "output_type": "stream",
     "text": [
      "\u001b[1m304/304\u001b[0m \u001b[32m━━━━━━━━━━━━━━━━━━━━\u001b[0m\u001b[37m\u001b[0m \u001b[1m1s\u001b[0m 2ms/step - loss: 0.3504 - mae: 0.3312\n"
     ]
    }
   ],
   "source": [
    "test_mse=model.evaluate(x_test,y_test)"
   ]
  },
  {
   "cell_type": "code",
   "execution_count": 378,
   "id": "e6f5a48e-eb16-4253-9d86-1fafa11fede3",
   "metadata": {
    "colab": {
     "base_uri": "https://localhost:8080/"
    },
    "id": "e6f5a48e-eb16-4253-9d86-1fafa11fede3",
    "outputId": "b1410b46-ddcb-48e7-faf7-74d4179a0dcc",
    "scrolled": true
   },
   "outputs": [
    {
     "data": {
      "text/plain": [
       "{'loss': [0.49264195561408997,\n",
       "  0.38172590732574463,\n",
       "  0.3624594211578369,\n",
       "  0.35610464215278625,\n",
       "  0.35076868534088135,\n",
       "  0.3465070128440857,\n",
       "  0.3452306091785431,\n",
       "  0.34229862689971924,\n",
       "  0.3402254581451416,\n",
       "  0.3389568328857422,\n",
       "  0.33745434880256653,\n",
       "  0.33674654364585876,\n",
       "  0.3353154957294464,\n",
       "  0.3333452045917511,\n",
       "  0.33265525102615356,\n",
       "  0.33204910159111023,\n",
       "  0.3315514326095581],\n",
       " 'mae': [0.36399322748184204,\n",
       "  0.34146440029144287,\n",
       "  0.3349207937717438,\n",
       "  0.33265551924705505,\n",
       "  0.32893043756484985,\n",
       "  0.32589641213417053,\n",
       "  0.32528939843177795,\n",
       "  0.3227817714214325,\n",
       "  0.32105526328086853,\n",
       "  0.31965363025665283,\n",
       "  0.31840360164642334,\n",
       "  0.3177582919597626,\n",
       "  0.31640195846557617,\n",
       "  0.3143114447593689,\n",
       "  0.3136010766029358,\n",
       "  0.31293630599975586,\n",
       "  0.3123166859149933],\n",
       " 'val_loss': [0.4119203984737396,\n",
       "  0.3773566782474518,\n",
       "  0.3612520098686218,\n",
       "  0.36113694310188293,\n",
       "  0.3579602539539337,\n",
       "  0.3525502383708954,\n",
       "  0.35876214504241943,\n",
       "  0.36699214577674866,\n",
       "  0.35119596123695374,\n",
       "  0.3496275842189789,\n",
       "  0.3458963632583618,\n",
       "  0.3663635849952698,\n",
       "  0.3497641980648041,\n",
       "  0.33889782428741455,\n",
       "  0.3431364893913269,\n",
       "  0.34177109599113464,\n",
       "  0.34396499395370483],\n",
       " 'val_mae': [0.356424480676651,\n",
       "  0.34666258096694946,\n",
       "  0.33591750264167786,\n",
       "  0.33887070417404175,\n",
       "  0.33726778626441956,\n",
       "  0.33243903517723083,\n",
       "  0.33960339426994324,\n",
       "  0.34756702184677124,\n",
       "  0.3316241502761841,\n",
       "  0.33067387342453003,\n",
       "  0.3269050717353821,\n",
       "  0.34762513637542725,\n",
       "  0.33088868856430054,\n",
       "  0.3196999430656433,\n",
       "  0.3240545690059662,\n",
       "  0.32236483693122864,\n",
       "  0.3247072696685791]}"
      ]
     },
     "execution_count": 378,
     "metadata": {},
     "output_type": "execute_result"
    }
   ],
   "source": [
    "history.history"
   ]
  },
  {
   "cell_type": "code",
   "execution_count": 379,
   "id": "97512f8e-251b-4f0b-bb2a-c0389d6f386b",
   "metadata": {
    "id": "97512f8e-251b-4f0b-bb2a-c0389d6f386b"
   },
   "outputs": [],
   "source": [
    "import matplotlib.pyplot as plt"
   ]
  },
  {
   "cell_type": "code",
   "execution_count": 380,
   "id": "8651e857-1bb1-4e48-b522-302764043a43",
   "metadata": {
    "id": "8651e857-1bb1-4e48-b522-302764043a43"
   },
   "outputs": [],
   "source": [
    "%matplotlib inline"
   ]
  },
  {
   "cell_type": "code",
   "execution_count": 381,
   "id": "EwEOwEzzBU4g",
   "metadata": {
    "colab": {
     "base_uri": "https://localhost:8080/",
     "height": 451
    },
    "id": "EwEOwEzzBU4g",
    "outputId": "f54d3d67-80e8-4baa-f7dd-bf3193f01e45"
   },
   "outputs": [
    {
     "data": {
      "text/plain": [
       "[<matplotlib.lines.Line2D at 0x7b743f36e210>]"
      ]
     },
     "execution_count": 381,
     "metadata": {},
     "output_type": "execute_result"
    },
    {
     "data": {
      "image/png": "[encoded data removed]",
      "text/plain": [
       "<Figure size 640x480 with 1 Axes>"
      ]
     },
     "metadata": {},
     "output_type": "display_data"
    }
   ],
   "source": [
    "plt.plot(history.history['loss'],label=\"loss\",color=\"red\")\n",
    "plt.plot(history.history['val_loss'],label=\"accuracy\")"
   ]
  },
  {
   "cell_type": "code",
   "execution_count": 385,
   "id": "d408798c-b196-43af-ac24-3c327d2a002c",
   "metadata": {
    "id": "d408798c-b196-43af-ac24-3c327d2a002c"
   },
   "outputs": [],
   "source": []
  },
  {
   "cell_type": "code",
   "execution_count": 383,
   "id": "899744da-5b9a-44c1-a683-7f14d0336d7f",
   "metadata": {
    "colab": {
     "base_uri": "https://localhost:8080/"
    },
    "id": "899744da-5b9a-44c1-a683-7f14d0336d7f",
    "outputId": "35f2b983-9e27-4435-c682-c638d873467d"
   },
   "outputs": [
    {
     "name": "stdout",
     "output_type": "stream",
     "text": [
      "\u001b[1m304/304\u001b[0m \u001b[32m━━━━━━━━━━━━━━━━━━━━\u001b[0m\u001b[37m\u001b[0m \u001b[1m1s\u001b[0m 2ms/step\n"
     ]
    }
   ],
   "source": [
    "y_pred=model.predict(x_test)"
   ]
  },
  {
   "cell_type": "code",
   "execution_count": 384,
   "id": "976c9e09-6649-4770-965a-79e23227d483",
   "metadata": {
    "id": "976c9e09-6649-4770-965a-79e23227d483"
   },
   "outputs": [],
   "source": [
    "from sklearn.metrics import r2_score"
   ]
  },
  {
   "cell_type": "code",
   "execution_count": 385,
   "id": "f87eb962-d94f-442c-815b-763c8bd38880",
   "metadata": {
    "colab": {
     "base_uri": "https://localhost:8080/"
    },
    "id": "f87eb962-d94f-442c-815b-763c8bd38880",
    "outputId": "d02eba75-4f84-4875-e461-fdb43dfb0631"
   },
   "outputs": [
    {
     "data": {
      "text/plain": [
       "0.6663753323279671"
      ]
     },
     "execution_count": 385,
     "metadata": {},
     "output_type": "execute_result"
    }
   ],
   "source": [
    "r2_score(y_test,y_pred)"
   ]
  },
  {
   "cell_type": "code",
   "execution_count": 385,
   "id": "e6d43361-1164-440b-9724-400891fd9c47",
   "metadata": {
    "id": "e6d43361-1164-440b-9724-400891fd9c47"
   },
   "outputs": [],
   "source": []
  }
 ],
 "metadata": {
  "accelerator": "GPU",
  "colab": {
   "gpuType": "T4",
   "provenance": []
  },
  "kernelspec": {
   "display_name": "Python 3 (ipykernel)",
   "language": "python",
   "name": "python3"
  },
  "language_info": {
   "codemirror_mode": {
    "name": "ipython",
    "version": 3
   },
   "file_extension": ".py",
   "mimetype": "text/x-python",
   "name": "python",
   "nbconvert_exporter": "python",
   "pygments_lexer": "ipython3",
   "version": "3.12.4"
  }
 },
 "nbformat": 4,
 "nbformat_minor": 5
}
