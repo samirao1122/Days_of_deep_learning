{
 "cells": [
  {
   "cell_type": "code",
   "execution_count": 1,
   "id": "dfc25cd6-0a64-4f18-82cc-7b9b18c62a68",
   "metadata": {},
   "outputs": [],
   "source": [
    "import pandas as pd\n"
   ]
  },
  {
   "cell_type": "code",
   "execution_count": 2,
   "id": "2a0621c5-2180-48bf-b66e-738c7181a868",
   "metadata": {},
   "outputs": [],
   "source": [
    "dataset=pd.read_csv(r\"C:\\Users\\wwrao\\Documents\\machine project without deployment\\housing prediction\\model.csv\")"
   ]
  },
  {
   "cell_type": "code",
   "execution_count": 3,
   "id": "1f364b2c-c213-4983-88db-0226b4790467",
   "metadata": {},
   "outputs": [
    {
     "data": {
      "text/html": [
       "<div>\n",
       "<style scoped>\n",
       "    .dataframe tbody tr th:only-of-type {\n",
       "        vertical-align: middle;\n",
       "    }\n",
       "\n",
       "    .dataframe tbody tr th {\n",
       "        vertical-align: top;\n",
       "    }\n",
       "\n",
       "    .dataframe thead th {\n",
       "        text-align: right;\n",
       "    }\n",
       "</style>\n",
       "<table border=\"1\" class=\"dataframe\">\n",
       "  <thead>\n",
       "    <tr style=\"text-align: right;\">\n",
       "      <th></th>\n",
       "      <th>Unnamed: 0</th>\n",
       "      <th>description</th>\n",
       "      <th>property_type</th>\n",
       "      <th>id</th>\n",
       "      <th>postal_code</th>\n",
       "      <th>price</th>\n",
       "      <th>category</th>\n",
       "      <th>year_built</th>\n",
       "      <th>garden</th>\n",
       "      <th>plot_area</th>\n",
       "      <th>num_rooms</th>\n",
       "      <th>num_bathrooms</th>\n",
       "      <th>energy_label</th>\n",
       "      <th>surface_area</th>\n",
       "      <th>listing_year</th>\n",
       "      <th>construction_year</th>\n",
       "    </tr>\n",
       "  </thead>\n",
       "  <tbody>\n",
       "    <tr>\n",
       "      <th>0</th>\n",
       "      <td>0</td>\n",
       "      <td>[ 0.75826776  3.213125   -4.9623823  -3.432942...</td>\n",
       "      <td>[ 0.94690067  1.3557965  -3.429536   -4.110108...</td>\n",
       "      <td>4388064.0</td>\n",
       "      <td>17.0</td>\n",
       "      <td>139000.0</td>\n",
       "      <td>1.0</td>\n",
       "      <td>1975.5</td>\n",
       "      <td>1.0</td>\n",
       "      <td>207.0</td>\n",
       "      <td>3.0</td>\n",
       "      <td>1.0</td>\n",
       "      <td>7.0</td>\n",
       "      <td>62.0</td>\n",
       "      <td>2018.0</td>\n",
       "      <td>2018.0</td>\n",
       "    </tr>\n",
       "    <tr>\n",
       "      <th>1</th>\n",
       "      <td>1</td>\n",
       "      <td>[ 0.95163393  1.9673971  -4.0726137  -2.553373...</td>\n",
       "      <td>[-1.1773891  -2.0983608  -6.210434   -2.006682...</td>\n",
       "      <td>4388200.0</td>\n",
       "      <td>74.0</td>\n",
       "      <td>209000.0</td>\n",
       "      <td>1.0</td>\n",
       "      <td>1980.0</td>\n",
       "      <td>1.0</td>\n",
       "      <td>148.0</td>\n",
       "      <td>5.0</td>\n",
       "      <td>1.0</td>\n",
       "      <td>6.0</td>\n",
       "      <td>136.0</td>\n",
       "      <td>2018.0</td>\n",
       "      <td>2018.0</td>\n",
       "    </tr>\n",
       "  </tbody>\n",
       "</table>\n",
       "</div>"
      ],
      "text/plain": [
       "   Unnamed: 0                                        description  \\\n",
       "0           0  [ 0.75826776  3.213125   -4.9623823  -3.432942...   \n",
       "1           1  [ 0.95163393  1.9673971  -4.0726137  -2.553373...   \n",
       "\n",
       "                                       property_type         id  postal_code  \\\n",
       "0  [ 0.94690067  1.3557965  -3.429536   -4.110108...  4388064.0         17.0   \n",
       "1  [-1.1773891  -2.0983608  -6.210434   -2.006682...  4388200.0         74.0   \n",
       "\n",
       "      price  category  year_built  garden  plot_area  num_rooms  \\\n",
       "0  139000.0       1.0      1975.5     1.0      207.0        3.0   \n",
       "1  209000.0       1.0      1980.0     1.0      148.0        5.0   \n",
       "\n",
       "   num_bathrooms  energy_label  surface_area  listing_year  construction_year  \n",
       "0            1.0           7.0          62.0        2018.0             2018.0  \n",
       "1            1.0           6.0         136.0        2018.0             2018.0  "
      ]
     },
     "execution_count": 3,
     "metadata": {},
     "output_type": "execute_result"
    }
   ],
   "source": [
    "dataset.head(2)"
   ]
  },
  {
   "cell_type": "code",
   "execution_count": 4,
   "id": "7c906311-3006-439b-83e1-f6432d4667f3",
   "metadata": {},
   "outputs": [
    {
     "data": {
      "text/plain": [
       "(49992, 16)"
      ]
     },
     "execution_count": 4,
     "metadata": {},
     "output_type": "execute_result"
    }
   ],
   "source": [
    "dataset.shape\n"
   ]
  },
  {
   "cell_type": "code",
   "execution_count": 5,
   "id": "5b1f2cd4-c79e-4ee9-a376-4ebbc3aa866a",
   "metadata": {},
   "outputs": [],
   "source": [
    "dataset=dataset.dropna()\n",
    "\n"
   ]
  },
  {
   "cell_type": "code",
   "execution_count": 6,
   "id": "c845ca8b-3347-4931-9ca4-0c2d85bd135f",
   "metadata": {},
   "outputs": [],
   "source": [
    "data=dataset.drop(columns=[\"Unnamed: 0\",\"property_type\",\"description\",\"id\",\"listing_year\"])"
   ]
  },
  {
   "cell_type": "code",
   "execution_count": 7,
   "id": "f105513a-5eb3-429a-91e9-52494fd0aff5",
   "metadata": {},
   "outputs": [
    {
     "data": {
      "text/html": [
       "<div>\n",
       "<style scoped>\n",
       "    .dataframe tbody tr th:only-of-type {\n",
       "        vertical-align: middle;\n",
       "    }\n",
       "\n",
       "    .dataframe tbody tr th {\n",
       "        vertical-align: top;\n",
       "    }\n",
       "\n",
       "    .dataframe thead th {\n",
       "        text-align: right;\n",
       "    }\n",
       "</style>\n",
       "<table border=\"1\" class=\"dataframe\">\n",
       "  <thead>\n",
       "    <tr style=\"text-align: right;\">\n",
       "      <th></th>\n",
       "      <th>postal_code</th>\n",
       "      <th>price</th>\n",
       "      <th>category</th>\n",
       "      <th>year_built</th>\n",
       "      <th>garden</th>\n",
       "      <th>plot_area</th>\n",
       "      <th>num_rooms</th>\n",
       "      <th>num_bathrooms</th>\n",
       "      <th>energy_label</th>\n",
       "      <th>surface_area</th>\n",
       "      <th>construction_year</th>\n",
       "    </tr>\n",
       "  </thead>\n",
       "  <tbody>\n",
       "    <tr>\n",
       "      <th>0</th>\n",
       "      <td>17.0</td>\n",
       "      <td>139000.0</td>\n",
       "      <td>1.0</td>\n",
       "      <td>1975.5</td>\n",
       "      <td>1.0</td>\n",
       "      <td>207.0</td>\n",
       "      <td>3.0</td>\n",
       "      <td>1.0</td>\n",
       "      <td>7.0</td>\n",
       "      <td>62.0</td>\n",
       "      <td>2018.0</td>\n",
       "    </tr>\n",
       "    <tr>\n",
       "      <th>1</th>\n",
       "      <td>74.0</td>\n",
       "      <td>209000.0</td>\n",
       "      <td>1.0</td>\n",
       "      <td>1980.0</td>\n",
       "      <td>1.0</td>\n",
       "      <td>148.0</td>\n",
       "      <td>5.0</td>\n",
       "      <td>1.0</td>\n",
       "      <td>6.0</td>\n",
       "      <td>136.0</td>\n",
       "      <td>2018.0</td>\n",
       "    </tr>\n",
       "    <tr>\n",
       "      <th>2</th>\n",
       "      <td>10.0</td>\n",
       "      <td>267500.0</td>\n",
       "      <td>0.0</td>\n",
       "      <td>2005.5</td>\n",
       "      <td>0.0</td>\n",
       "      <td>207.0</td>\n",
       "      <td>3.0</td>\n",
       "      <td>1.0</td>\n",
       "      <td>7.0</td>\n",
       "      <td>70.0</td>\n",
       "      <td>2018.0</td>\n",
       "    </tr>\n",
       "    <tr>\n",
       "      <th>3</th>\n",
       "      <td>56.0</td>\n",
       "      <td>349000.0</td>\n",
       "      <td>1.0</td>\n",
       "      <td>1973.0</td>\n",
       "      <td>1.0</td>\n",
       "      <td>244.0</td>\n",
       "      <td>5.0</td>\n",
       "      <td>1.0</td>\n",
       "      <td>7.0</td>\n",
       "      <td>144.0</td>\n",
       "      <td>2018.0</td>\n",
       "    </tr>\n",
       "    <tr>\n",
       "      <th>4</th>\n",
       "      <td>77.0</td>\n",
       "      <td>495000.0</td>\n",
       "      <td>1.0</td>\n",
       "      <td>1900.0</td>\n",
       "      <td>0.0</td>\n",
       "      <td>4500.0</td>\n",
       "      <td>8.0</td>\n",
       "      <td>1.0</td>\n",
       "      <td>7.0</td>\n",
       "      <td>323.0</td>\n",
       "      <td>2018.0</td>\n",
       "    </tr>\n",
       "  </tbody>\n",
       "</table>\n",
       "</div>"
      ],
      "text/plain": [
       "   postal_code     price  category  year_built  garden  plot_area  num_rooms  \\\n",
       "0         17.0  139000.0       1.0      1975.5     1.0      207.0        3.0   \n",
       "1         74.0  209000.0       1.0      1980.0     1.0      148.0        5.0   \n",
       "2         10.0  267500.0       0.0      2005.5     0.0      207.0        3.0   \n",
       "3         56.0  349000.0       1.0      1973.0     1.0      244.0        5.0   \n",
       "4         77.0  495000.0       1.0      1900.0     0.0     4500.0        8.0   \n",
       "\n",
       "   num_bathrooms  energy_label  surface_area  construction_year  \n",
       "0            1.0           7.0          62.0             2018.0  \n",
       "1            1.0           6.0         136.0             2018.0  \n",
       "2            1.0           7.0          70.0             2018.0  \n",
       "3            1.0           7.0         144.0             2018.0  \n",
       "4            1.0           7.0         323.0             2018.0  "
      ]
     },
     "execution_count": 7,
     "metadata": {},
     "output_type": "execute_result"
    }
   ],
   "source": [
    "data.head()"
   ]
  },
  {
   "cell_type": "code",
   "execution_count": 8,
   "id": "3edac907-1579-4180-b0a4-d8aa4a7455cd",
   "metadata": {},
   "outputs": [],
   "source": [
    "from sklearn.preprocessing import StandardScaler\n",
    "ss=StandardScaler()\n",
    "d=ss.fit_transform(data)\n",
    "data=pd.DataFrame(d,columns=data.columns)\n",
    "\n",
    "dataset=data.dropna()"
   ]
  },
  {
   "cell_type": "code",
   "execution_count": 9,
   "id": "83ae0690-652b-4141-a8d9-564f145c0259",
   "metadata": {},
   "outputs": [
    {
     "data": {
      "text/html": [
       "<div>\n",
       "<style scoped>\n",
       "    .dataframe tbody tr th:only-of-type {\n",
       "        vertical-align: middle;\n",
       "    }\n",
       "\n",
       "    .dataframe tbody tr th {\n",
       "        vertical-align: top;\n",
       "    }\n",
       "\n",
       "    .dataframe thead th {\n",
       "        text-align: right;\n",
       "    }\n",
       "</style>\n",
       "<table border=\"1\" class=\"dataframe\">\n",
       "  <thead>\n",
       "    <tr style=\"text-align: right;\">\n",
       "      <th></th>\n",
       "      <th>postal_code</th>\n",
       "      <th>price</th>\n",
       "      <th>category</th>\n",
       "      <th>year_built</th>\n",
       "      <th>garden</th>\n",
       "      <th>plot_area</th>\n",
       "      <th>num_rooms</th>\n",
       "      <th>num_bathrooms</th>\n",
       "      <th>energy_label</th>\n",
       "      <th>surface_area</th>\n",
       "      <th>construction_year</th>\n",
       "    </tr>\n",
       "  </thead>\n",
       "  <tbody>\n",
       "    <tr>\n",
       "      <th>0</th>\n",
       "      <td>-1.170834</td>\n",
       "      <td>-0.900507</td>\n",
       "      <td>0.609214</td>\n",
       "      <td>0.036635</td>\n",
       "      <td>0.656425</td>\n",
       "      <td>-0.087914</td>\n",
       "      <td>-1.036045</td>\n",
       "      <td>-0.254684</td>\n",
       "      <td>-0.000554</td>\n",
       "      <td>-1.151205</td>\n",
       "      <td>-0.258518</td>\n",
       "    </tr>\n",
       "    <tr>\n",
       "      <th>1</th>\n",
       "      <td>1.157406</td>\n",
       "      <td>-0.534254</td>\n",
       "      <td>0.609214</td>\n",
       "      <td>0.153434</td>\n",
       "      <td>0.656425</td>\n",
       "      <td>-0.108226</td>\n",
       "      <td>0.225089</td>\n",
       "      <td>-0.254684</td>\n",
       "      <td>-0.928721</td>\n",
       "      <td>0.323758</td>\n",
       "      <td>-0.258518</td>\n",
       "    </tr>\n",
       "    <tr>\n",
       "      <th>2</th>\n",
       "      <td>-1.456758</td>\n",
       "      <td>-0.228171</td>\n",
       "      <td>-1.641460</td>\n",
       "      <td>0.815295</td>\n",
       "      <td>-1.523404</td>\n",
       "      <td>-0.087914</td>\n",
       "      <td>-1.036045</td>\n",
       "      <td>-0.254684</td>\n",
       "      <td>-0.000554</td>\n",
       "      <td>-0.991749</td>\n",
       "      <td>-0.258518</td>\n",
       "    </tr>\n",
       "    <tr>\n",
       "      <th>3</th>\n",
       "      <td>0.422172</td>\n",
       "      <td>0.198253</td>\n",
       "      <td>0.609214</td>\n",
       "      <td>-0.028254</td>\n",
       "      <td>0.656425</td>\n",
       "      <td>-0.075176</td>\n",
       "      <td>0.225089</td>\n",
       "      <td>-0.254684</td>\n",
       "      <td>-0.000554</td>\n",
       "      <td>0.483213</td>\n",
       "      <td>-0.258518</td>\n",
       "    </tr>\n",
       "    <tr>\n",
       "      <th>4</th>\n",
       "      <td>1.279945</td>\n",
       "      <td>0.962153</td>\n",
       "      <td>0.609214</td>\n",
       "      <td>-1.922993</td>\n",
       "      <td>-1.523404</td>\n",
       "      <td>1.390041</td>\n",
       "      <td>2.116791</td>\n",
       "      <td>-0.254684</td>\n",
       "      <td>-0.000554</td>\n",
       "      <td>4.051027</td>\n",
       "      <td>-0.258518</td>\n",
       "    </tr>\n",
       "  </tbody>\n",
       "</table>\n",
       "</div>"
      ],
      "text/plain": [
       "   postal_code     price  category  year_built    garden  plot_area  \\\n",
       "0    -1.170834 -0.900507  0.609214    0.036635  0.656425  -0.087914   \n",
       "1     1.157406 -0.534254  0.609214    0.153434  0.656425  -0.108226   \n",
       "2    -1.456758 -0.228171 -1.641460    0.815295 -1.523404  -0.087914   \n",
       "3     0.422172  0.198253  0.609214   -0.028254  0.656425  -0.075176   \n",
       "4     1.279945  0.962153  0.609214   -1.922993 -1.523404   1.390041   \n",
       "\n",
       "   num_rooms  num_bathrooms  energy_label  surface_area  construction_year  \n",
       "0  -1.036045      -0.254684     -0.000554     -1.151205          -0.258518  \n",
       "1   0.225089      -0.254684     -0.928721      0.323758          -0.258518  \n",
       "2  -1.036045      -0.254684     -0.000554     -0.991749          -0.258518  \n",
       "3   0.225089      -0.254684     -0.000554      0.483213          -0.258518  \n",
       "4   2.116791      -0.254684     -0.000554      4.051027          -0.258518  "
      ]
     },
     "execution_count": 9,
     "metadata": {},
     "output_type": "execute_result"
    }
   ],
   "source": [
    "dataset.head()"
   ]
  },
  {
   "cell_type": "code",
   "execution_count": null,
   "id": "6e0efc82-a18f-445d-87b5-2ebdebdb0abd",
   "metadata": {},
   "outputs": [],
   "source": []
  },
  {
   "cell_type": "code",
   "execution_count": null,
   "id": "1f8fd168-7faa-4221-aa3a-232e06204d21",
   "metadata": {},
   "outputs": [],
   "source": []
  },
  {
   "cell_type": "code",
   "execution_count": 10,
   "id": "d49b100e-adad-4674-b723-6cd1a4b124dd",
   "metadata": {},
   "outputs": [],
   "source": [
    "x=dataset.drop(columns=[\"price\"])\n",
    "y=dataset[\"price\"]"
   ]
  },
  {
   "cell_type": "code",
   "execution_count": 11,
   "id": "7f8485e7-fd57-4ac1-b18b-99c1a094dbb9",
   "metadata": {},
   "outputs": [
    {
     "data": {
      "text/html": [
       "<div>\n",
       "<style scoped>\n",
       "    .dataframe tbody tr th:only-of-type {\n",
       "        vertical-align: middle;\n",
       "    }\n",
       "\n",
       "    .dataframe tbody tr th {\n",
       "        vertical-align: top;\n",
       "    }\n",
       "\n",
       "    .dataframe thead th {\n",
       "        text-align: right;\n",
       "    }\n",
       "</style>\n",
       "<table border=\"1\" class=\"dataframe\">\n",
       "  <thead>\n",
       "    <tr style=\"text-align: right;\">\n",
       "      <th></th>\n",
       "      <th>postal_code</th>\n",
       "      <th>category</th>\n",
       "      <th>year_built</th>\n",
       "      <th>garden</th>\n",
       "      <th>plot_area</th>\n",
       "      <th>num_rooms</th>\n",
       "      <th>num_bathrooms</th>\n",
       "      <th>energy_label</th>\n",
       "      <th>surface_area</th>\n",
       "      <th>construction_year</th>\n",
       "    </tr>\n",
       "  </thead>\n",
       "  <tbody>\n",
       "    <tr>\n",
       "      <th>0</th>\n",
       "      <td>-1.170834</td>\n",
       "      <td>0.609214</td>\n",
       "      <td>0.036635</td>\n",
       "      <td>0.656425</td>\n",
       "      <td>-0.087914</td>\n",
       "      <td>-1.036045</td>\n",
       "      <td>-0.254684</td>\n",
       "      <td>-0.000554</td>\n",
       "      <td>-1.151205</td>\n",
       "      <td>-0.258518</td>\n",
       "    </tr>\n",
       "    <tr>\n",
       "      <th>1</th>\n",
       "      <td>1.157406</td>\n",
       "      <td>0.609214</td>\n",
       "      <td>0.153434</td>\n",
       "      <td>0.656425</td>\n",
       "      <td>-0.108226</td>\n",
       "      <td>0.225089</td>\n",
       "      <td>-0.254684</td>\n",
       "      <td>-0.928721</td>\n",
       "      <td>0.323758</td>\n",
       "      <td>-0.258518</td>\n",
       "    </tr>\n",
       "    <tr>\n",
       "      <th>2</th>\n",
       "      <td>-1.456758</td>\n",
       "      <td>-1.641460</td>\n",
       "      <td>0.815295</td>\n",
       "      <td>-1.523404</td>\n",
       "      <td>-0.087914</td>\n",
       "      <td>-1.036045</td>\n",
       "      <td>-0.254684</td>\n",
       "      <td>-0.000554</td>\n",
       "      <td>-0.991749</td>\n",
       "      <td>-0.258518</td>\n",
       "    </tr>\n",
       "    <tr>\n",
       "      <th>3</th>\n",
       "      <td>0.422172</td>\n",
       "      <td>0.609214</td>\n",
       "      <td>-0.028254</td>\n",
       "      <td>0.656425</td>\n",
       "      <td>-0.075176</td>\n",
       "      <td>0.225089</td>\n",
       "      <td>-0.254684</td>\n",
       "      <td>-0.000554</td>\n",
       "      <td>0.483213</td>\n",
       "      <td>-0.258518</td>\n",
       "    </tr>\n",
       "    <tr>\n",
       "      <th>4</th>\n",
       "      <td>1.279945</td>\n",
       "      <td>0.609214</td>\n",
       "      <td>-1.922993</td>\n",
       "      <td>-1.523404</td>\n",
       "      <td>1.390041</td>\n",
       "      <td>2.116791</td>\n",
       "      <td>-0.254684</td>\n",
       "      <td>-0.000554</td>\n",
       "      <td>4.051027</td>\n",
       "      <td>-0.258518</td>\n",
       "    </tr>\n",
       "  </tbody>\n",
       "</table>\n",
       "</div>"
      ],
      "text/plain": [
       "   postal_code  category  year_built    garden  plot_area  num_rooms  \\\n",
       "0    -1.170834  0.609214    0.036635  0.656425  -0.087914  -1.036045   \n",
       "1     1.157406  0.609214    0.153434  0.656425  -0.108226   0.225089   \n",
       "2    -1.456758 -1.641460    0.815295 -1.523404  -0.087914  -1.036045   \n",
       "3     0.422172  0.609214   -0.028254  0.656425  -0.075176   0.225089   \n",
       "4     1.279945  0.609214   -1.922993 -1.523404   1.390041   2.116791   \n",
       "\n",
       "   num_bathrooms  energy_label  surface_area  construction_year  \n",
       "0      -0.254684     -0.000554     -1.151205          -0.258518  \n",
       "1      -0.254684     -0.928721      0.323758          -0.258518  \n",
       "2      -0.254684     -0.000554     -0.991749          -0.258518  \n",
       "3      -0.254684     -0.000554      0.483213          -0.258518  \n",
       "4      -0.254684     -0.000554      4.051027          -0.258518  "
      ]
     },
     "execution_count": 11,
     "metadata": {},
     "output_type": "execute_result"
    }
   ],
   "source": [
    "x.head()"
   ]
  },
  {
   "cell_type": "code",
   "execution_count": 12,
   "id": "20f80c21-8dc2-452e-aace-448fbd51a1b1",
   "metadata": {},
   "outputs": [
    {
     "data": {
      "text/plain": [
       "postal_code          0\n",
       "category             0\n",
       "year_built           0\n",
       "garden               0\n",
       "plot_area            0\n",
       "num_rooms            0\n",
       "num_bathrooms        0\n",
       "energy_label         0\n",
       "surface_area         0\n",
       "construction_year    0\n",
       "dtype: int64"
      ]
     },
     "execution_count": 12,
     "metadata": {},
     "output_type": "execute_result"
    }
   ],
   "source": [
    "x.isnull().sum()"
   ]
  },
  {
   "cell_type": "code",
   "execution_count": 13,
   "id": "358865a6-e914-43b5-9c45-816054933075",
   "metadata": {},
   "outputs": [
    {
     "data": {
      "text/plain": [
       "0"
      ]
     },
     "execution_count": 13,
     "metadata": {},
     "output_type": "execute_result"
    }
   ],
   "source": [
    "y.isnull().sum()"
   ]
  },
  {
   "cell_type": "code",
   "execution_count": 14,
   "id": "8d64dc6c-3c1c-4c84-b1da-dcf0328cf00a",
   "metadata": {},
   "outputs": [
    {
     "data": {
      "text/plain": [
       "(48596, 10)"
      ]
     },
     "execution_count": 14,
     "metadata": {},
     "output_type": "execute_result"
    }
   ],
   "source": [
    "x.shape"
   ]
  },
  {
   "cell_type": "code",
   "execution_count": 15,
   "id": "5ef0132a-4cce-4f5b-bf09-317052228a71",
   "metadata": {},
   "outputs": [
    {
     "data": {
      "text/plain": [
       "(48596,)"
      ]
     },
     "execution_count": 15,
     "metadata": {},
     "output_type": "execute_result"
    }
   ],
   "source": [
    "y.shape"
   ]
  },
  {
   "cell_type": "code",
   "execution_count": 16,
   "id": "b4c0987c-c1bb-42fb-aca9-d86af9423016",
   "metadata": {},
   "outputs": [],
   "source": [
    "from sklearn.model_selection import train_test_split\n",
    "x_train,x_test,y_train,y_test=train_test_split(x,y,test_size=0.2,random_state=42)"
   ]
  },
  {
   "cell_type": "code",
   "execution_count": 17,
   "id": "a6672029-739e-4130-b4f9-3816c3b2345a",
   "metadata": {},
   "outputs": [],
   "source": [
    "import tensorflow as tf"
   ]
  },
  {
   "cell_type": "code",
   "execution_count": 18,
   "id": "c70fc044-d24e-4e5a-ab2d-d08b523a7e45",
   "metadata": {},
   "outputs": [],
   "source": [
    "from tensorflow import keras "
   ]
  },
  {
   "cell_type": "code",
   "execution_count": 19,
   "id": "0af7909d-cdf6-4019-9272-81acfc7d8821",
   "metadata": {},
   "outputs": [
    {
     "data": {
      "text/plain": [
       "(38876, 10)"
      ]
     },
     "execution_count": 19,
     "metadata": {},
     "output_type": "execute_result"
    }
   ],
   "source": [
    "x_train.shape"
   ]
  },
  {
   "cell_type": "code",
   "execution_count": 20,
   "id": "3f814700-424e-4775-aa0e-e57b0d4f29a0",
   "metadata": {},
   "outputs": [
    {
     "data": {
      "text/plain": [
       "10"
      ]
     },
     "execution_count": 20,
     "metadata": {},
     "output_type": "execute_result"
    }
   ],
   "source": [
    "x_train.shape[1]"
   ]
  },
  {
   "cell_type": "code",
   "execution_count": 21,
   "id": "da3ef030-e9ff-4aab-9b4a-672bf9f25f85",
   "metadata": {},
   "outputs": [
    {
     "name": "stderr",
     "output_type": "stream",
     "text": [
      "C:\\Users\\wwrao\\AppData\\Local\\Programs\\Python\\Python312\\Lib\\site-packages\\keras\\src\\layers\\core\\dense.py:87: UserWarning: Do not pass an `input_shape`/`input_dim` argument to a layer. When using Sequential models, prefer using an `Input(shape)` object as the first layer in the model instead.\n",
      "  super().__init__(activity_regularizer=activity_regularizer, **kwargs)\n"
     ]
    }
   ],
   "source": [
    "model = keras.Sequential([\n",
    "    \n",
    "    keras.layers.Dense(10000, activation=\"relu\",input_shape=(10,),kernel_regularizer=tf.keras.regularizers.l2(0.03)),  \n",
    "    keras.layers.Dropout(0.25),\n",
    "    keras.layers.Dense(1000, activation=\"relu\",kernel_regularizer=tf.keras.regularizers.l2(0.03)),\n",
    "    keras.layers.Dropout(0.25),\n",
    "    keras.layers.Dense(100, activation=\"relu\",kernel_regularizer=tf.keras.regularizers.l2(0.03)),\n",
    "    keras.layers.Dropout(0.5),\n",
    "    keras.layers.Dense(10, activation=\"relu\",kernel_regularizer=tf.keras.regularizers.l2(0.03)),\n",
    "    keras.layers.Dropout(0.25),\n",
    "    keras.layers.Dense(1,activation=\"linear\",kernel_regularizer=tf.keras.regularizers.l2(0.03))  # Output layer (for regression)\n",
    "])\n"
   ]
  },
  {
   "cell_type": "code",
   "execution_count": 22,
   "id": "f57af27b-248e-44f7-8aa3-3c30e3c951d0",
   "metadata": {},
   "outputs": [
    {
     "data": {
      "text/html": [
       "<pre style=\"white-space:pre;overflow-x:auto;line-height:normal;font-family:Menlo,'DejaVu Sans Mono',consolas,'Courier New',monospace\"><span style=\"font-weight: bold\">Model: \"sequential\"</span>\n",
       "</pre>\n"
      ],
      "text/plain": [
       "\u001b[1mModel: \"sequential\"\u001b[0m\n"
      ]
     },
     "metadata": {},
     "output_type": "display_data"
    },
    {
     "data": {
      "text/html": [
       "<pre style=\"white-space:pre;overflow-x:auto;line-height:normal;font-family:Menlo,'DejaVu Sans Mono',consolas,'Courier New',monospace\">┏━━━━━━━━━━━━━━━━━━━━━━━━━━━━━━━━━━━━━━┳━━━━━━━━━━━━━━━━━━━━━━━━━━━━━┳━━━━━━━━━━━━━━━━━┓\n",
       "┃<span style=\"font-weight: bold\"> Layer (type)                         </span>┃<span style=\"font-weight: bold\"> Output Shape                </span>┃<span style=\"font-weight: bold\">         Param # </span>┃\n",
       "┡━━━━━━━━━━━━━━━━━━━━━━━━━━━━━━━━━━━━━━╇━━━━━━━━━━━━━━━━━━━━━━━━━━━━━╇━━━━━━━━━━━━━━━━━┩\n",
       "│ dense (<span style=\"color: #0087ff; text-decoration-color: #0087ff\">Dense</span>)                        │ (<span style=\"color: #00d7ff; text-decoration-color: #00d7ff\">None</span>, <span style=\"color: #00af00; text-decoration-color: #00af00\">10000</span>)               │         <span style=\"color: #00af00; text-decoration-color: #00af00\">110,000</span> │\n",
       "├──────────────────────────────────────┼─────────────────────────────┼─────────────────┤\n",
       "│ dropout (<span style=\"color: #0087ff; text-decoration-color: #0087ff\">Dropout</span>)                    │ (<span style=\"color: #00d7ff; text-decoration-color: #00d7ff\">None</span>, <span style=\"color: #00af00; text-decoration-color: #00af00\">10000</span>)               │               <span style=\"color: #00af00; text-decoration-color: #00af00\">0</span> │\n",
       "├──────────────────────────────────────┼─────────────────────────────┼─────────────────┤\n",
       "│ dense_1 (<span style=\"color: #0087ff; text-decoration-color: #0087ff\">Dense</span>)                      │ (<span style=\"color: #00d7ff; text-decoration-color: #00d7ff\">None</span>, <span style=\"color: #00af00; text-decoration-color: #00af00\">1000</span>)                │      <span style=\"color: #00af00; text-decoration-color: #00af00\">10,001,000</span> │\n",
       "├──────────────────────────────────────┼─────────────────────────────┼─────────────────┤\n",
       "│ dropout_1 (<span style=\"color: #0087ff; text-decoration-color: #0087ff\">Dropout</span>)                  │ (<span style=\"color: #00d7ff; text-decoration-color: #00d7ff\">None</span>, <span style=\"color: #00af00; text-decoration-color: #00af00\">1000</span>)                │               <span style=\"color: #00af00; text-decoration-color: #00af00\">0</span> │\n",
       "├──────────────────────────────────────┼─────────────────────────────┼─────────────────┤\n",
       "│ dense_2 (<span style=\"color: #0087ff; text-decoration-color: #0087ff\">Dense</span>)                      │ (<span style=\"color: #00d7ff; text-decoration-color: #00d7ff\">None</span>, <span style=\"color: #00af00; text-decoration-color: #00af00\">100</span>)                 │         <span style=\"color: #00af00; text-decoration-color: #00af00\">100,100</span> │\n",
       "├──────────────────────────────────────┼─────────────────────────────┼─────────────────┤\n",
       "│ dropout_2 (<span style=\"color: #0087ff; text-decoration-color: #0087ff\">Dropout</span>)                  │ (<span style=\"color: #00d7ff; text-decoration-color: #00d7ff\">None</span>, <span style=\"color: #00af00; text-decoration-color: #00af00\">100</span>)                 │               <span style=\"color: #00af00; text-decoration-color: #00af00\">0</span> │\n",
       "├──────────────────────────────────────┼─────────────────────────────┼─────────────────┤\n",
       "│ dense_3 (<span style=\"color: #0087ff; text-decoration-color: #0087ff\">Dense</span>)                      │ (<span style=\"color: #00d7ff; text-decoration-color: #00d7ff\">None</span>, <span style=\"color: #00af00; text-decoration-color: #00af00\">10</span>)                  │           <span style=\"color: #00af00; text-decoration-color: #00af00\">1,010</span> │\n",
       "├──────────────────────────────────────┼─────────────────────────────┼─────────────────┤\n",
       "│ dropout_3 (<span style=\"color: #0087ff; text-decoration-color: #0087ff\">Dropout</span>)                  │ (<span style=\"color: #00d7ff; text-decoration-color: #00d7ff\">None</span>, <span style=\"color: #00af00; text-decoration-color: #00af00\">10</span>)                  │               <span style=\"color: #00af00; text-decoration-color: #00af00\">0</span> │\n",
       "├──────────────────────────────────────┼─────────────────────────────┼─────────────────┤\n",
       "│ dense_4 (<span style=\"color: #0087ff; text-decoration-color: #0087ff\">Dense</span>)                      │ (<span style=\"color: #00d7ff; text-decoration-color: #00d7ff\">None</span>, <span style=\"color: #00af00; text-decoration-color: #00af00\">1</span>)                   │              <span style=\"color: #00af00; text-decoration-color: #00af00\">11</span> │\n",
       "└──────────────────────────────────────┴─────────────────────────────┴─────────────────┘\n",
       "</pre>\n"
      ],
      "text/plain": [
       "┏━━━━━━━━━━━━━━━━━━━━━━━━━━━━━━━━━━━━━━┳━━━━━━━━━━━━━━━━━━━━━━━━━━━━━┳━━━━━━━━━━━━━━━━━┓\n",
       "┃\u001b[1m \u001b[0m\u001b[1mLayer (type)                        \u001b[0m\u001b[1m \u001b[0m┃\u001b[1m \u001b[0m\u001b[1mOutput Shape               \u001b[0m\u001b[1m \u001b[0m┃\u001b[1m \u001b[0m\u001b[1m        Param #\u001b[0m\u001b[1m \u001b[0m┃\n",
       "┡━━━━━━━━━━━━━━━━━━━━━━━━━━━━━━━━━━━━━━╇━━━━━━━━━━━━━━━━━━━━━━━━━━━━━╇━━━━━━━━━━━━━━━━━┩\n",
       "│ dense (\u001b[38;5;33mDense\u001b[0m)                        │ (\u001b[38;5;45mNone\u001b[0m, \u001b[38;5;34m10000\u001b[0m)               │         \u001b[38;5;34m110,000\u001b[0m │\n",
       "├──────────────────────────────────────┼─────────────────────────────┼─────────────────┤\n",
       "│ dropout (\u001b[38;5;33mDropout\u001b[0m)                    │ (\u001b[38;5;45mNone\u001b[0m, \u001b[38;5;34m10000\u001b[0m)               │               \u001b[38;5;34m0\u001b[0m │\n",
       "├──────────────────────────────────────┼─────────────────────────────┼─────────────────┤\n",
       "│ dense_1 (\u001b[38;5;33mDense\u001b[0m)                      │ (\u001b[38;5;45mNone\u001b[0m, \u001b[38;5;34m1000\u001b[0m)                │      \u001b[38;5;34m10,001,000\u001b[0m │\n",
       "├──────────────────────────────────────┼─────────────────────────────┼─────────────────┤\n",
       "│ dropout_1 (\u001b[38;5;33mDropout\u001b[0m)                  │ (\u001b[38;5;45mNone\u001b[0m, \u001b[38;5;34m1000\u001b[0m)                │               \u001b[38;5;34m0\u001b[0m │\n",
       "├──────────────────────────────────────┼─────────────────────────────┼─────────────────┤\n",
       "│ dense_2 (\u001b[38;5;33mDense\u001b[0m)                      │ (\u001b[38;5;45mNone\u001b[0m, \u001b[38;5;34m100\u001b[0m)                 │         \u001b[38;5;34m100,100\u001b[0m │\n",
       "├──────────────────────────────────────┼─────────────────────────────┼─────────────────┤\n",
       "│ dropout_2 (\u001b[38;5;33mDropout\u001b[0m)                  │ (\u001b[38;5;45mNone\u001b[0m, \u001b[38;5;34m100\u001b[0m)                 │               \u001b[38;5;34m0\u001b[0m │\n",
       "├──────────────────────────────────────┼─────────────────────────────┼─────────────────┤\n",
       "│ dense_3 (\u001b[38;5;33mDense\u001b[0m)                      │ (\u001b[38;5;45mNone\u001b[0m, \u001b[38;5;34m10\u001b[0m)                  │           \u001b[38;5;34m1,010\u001b[0m │\n",
       "├──────────────────────────────────────┼─────────────────────────────┼─────────────────┤\n",
       "│ dropout_3 (\u001b[38;5;33mDropout\u001b[0m)                  │ (\u001b[38;5;45mNone\u001b[0m, \u001b[38;5;34m10\u001b[0m)                  │               \u001b[38;5;34m0\u001b[0m │\n",
       "├──────────────────────────────────────┼─────────────────────────────┼─────────────────┤\n",
       "│ dense_4 (\u001b[38;5;33mDense\u001b[0m)                      │ (\u001b[38;5;45mNone\u001b[0m, \u001b[38;5;34m1\u001b[0m)                   │              \u001b[38;5;34m11\u001b[0m │\n",
       "└──────────────────────────────────────┴─────────────────────────────┴─────────────────┘\n"
      ]
     },
     "metadata": {},
     "output_type": "display_data"
    },
    {
     "data": {
      "text/html": [
       "<pre style=\"white-space:pre;overflow-x:auto;line-height:normal;font-family:Menlo,'DejaVu Sans Mono',consolas,'Courier New',monospace\"><span style=\"font-weight: bold\"> Total params: </span><span style=\"color: #00af00; text-decoration-color: #00af00\">10,212,121</span> (38.96 MB)\n",
       "</pre>\n"
      ],
      "text/plain": [
       "\u001b[1m Total params: \u001b[0m\u001b[38;5;34m10,212,121\u001b[0m (38.96 MB)\n"
      ]
     },
     "metadata": {},
     "output_type": "display_data"
    },
    {
     "data": {
      "text/html": [
       "<pre style=\"white-space:pre;overflow-x:auto;line-height:normal;font-family:Menlo,'DejaVu Sans Mono',consolas,'Courier New',monospace\"><span style=\"font-weight: bold\"> Trainable params: </span><span style=\"color: #00af00; text-decoration-color: #00af00\">10,212,121</span> (38.96 MB)\n",
       "</pre>\n"
      ],
      "text/plain": [
       "\u001b[1m Trainable params: \u001b[0m\u001b[38;5;34m10,212,121\u001b[0m (38.96 MB)\n"
      ]
     },
     "metadata": {},
     "output_type": "display_data"
    },
    {
     "data": {
      "text/html": [
       "<pre style=\"white-space:pre;overflow-x:auto;line-height:normal;font-family:Menlo,'DejaVu Sans Mono',consolas,'Courier New',monospace\"><span style=\"font-weight: bold\"> Non-trainable params: </span><span style=\"color: #00af00; text-decoration-color: #00af00\">0</span> (0.00 B)\n",
       "</pre>\n"
      ],
      "text/plain": [
       "\u001b[1m Non-trainable params: \u001b[0m\u001b[38;5;34m0\u001b[0m (0.00 B)\n"
      ]
     },
     "metadata": {},
     "output_type": "display_data"
    }
   ],
   "source": [
    "model.summary()"
   ]
  },
  {
   "cell_type": "code",
   "execution_count": 23,
   "id": "db8c2e3c-28e8-4920-a104-90369cf0a129",
   "metadata": {},
   "outputs": [],
   "source": [
    "optimizer = tf.keras.optimizers.Adam(learning_rate=0.001) "
   ]
  },
  {
   "cell_type": "code",
   "execution_count": 24,
   "id": "244b78e7-4975-42df-a3fe-ac1798014c6c",
   "metadata": {},
   "outputs": [],
   "source": [
    "model.compile(optimizer=optimizer,loss=\"mae\",metrics=[\"mae\"])"
   ]
  },
  {
   "cell_type": "code",
   "execution_count": 25,
   "id": "8feac1ab-05de-4768-aeb8-682cea862077",
   "metadata": {},
   "outputs": [],
   "source": [
    "call_back=keras.callbacks.EarlyStopping(\n",
    "    monitor=\"val_loss\",\n",
    "    min_delta=0,\n",
    "    patience=3,\n",
    "    verbose=0,\n",
    "    mode=\"auto\",\n",
    "    baseline=None,\n",
    "    restore_best_weights=False,\n",
    "    start_from_epoch=0,\n",
    ")"
   ]
  },
  {
   "cell_type": "code",
   "execution_count": null,
   "id": "9bd1a63f-133d-45aa-8f10-0168b0430e1c",
   "metadata": {},
   "outputs": [
    {
     "name": "stdout",
     "output_type": "stream",
     "text": [
      "Epoch 1/50\n",
      "\u001b[1m 447/1215\u001b[0m \u001b[32m━━━━━━━\u001b[0m\u001b[37m━━━━━━━━━━━━━\u001b[0m \u001b[1m1:58\u001b[0m 154ms/step - loss: 6.0598 - mae: 0.4975 "
     ]
    }
   ],
   "source": [
    "history=model.fit(x_train,y_train,validation_data=(x_test,y_test),epochs=50,callbacks=[call_back])"
   ]
  },
  {
   "cell_type": "code",
   "execution_count": 43,
   "id": "e4e9ba9c-bab2-49af-9cb3-22ccf335682d",
   "metadata": {},
   "outputs": [
    {
     "name": "stdout",
     "output_type": "stream",
     "text": [
      "\u001b[1m1215/1215\u001b[0m \u001b[32m━━━━━━━━━━━━━━━━━━━━\u001b[0m\u001b[37m\u001b[0m \u001b[1m4s\u001b[0m 4ms/step - loss: 0.2916 - mae: 0.2916\n"
     ]
    },
    {
     "data": {
      "text/plain": [
       "[0.29041552543640137, 0.29041552543640137]"
      ]
     },
     "execution_count": 43,
     "metadata": {},
     "output_type": "execute_result"
    }
   ],
   "source": [
    "train_mse=model.evaluate(x_train,y_train)\n",
    "train_mse"
   ]
  },
  {
   "cell_type": "code",
   "execution_count": 44,
   "id": "14e8abf6-c584-447d-8a59-703390d92aa3",
   "metadata": {},
   "outputs": [
    {
     "name": "stdout",
     "output_type": "stream",
     "text": [
      "\u001b[1m304/304\u001b[0m \u001b[32m━━━━━━━━━━━━━━━━━━━━\u001b[0m\u001b[37m\u001b[0m \u001b[1m1s\u001b[0m 3ms/step - loss: 0.3208 - mae: 0.3208\n"
     ]
    }
   ],
   "source": [
    "test_mse=model.evaluate(x_test,y_test)"
   ]
  },
  {
   "cell_type": "code",
   "execution_count": 29,
   "id": "e6f5a48e-eb16-4253-9d86-1fafa11fede3",
   "metadata": {
    "scrolled": true
   },
   "outputs": [
    {
     "data": {
      "text/plain": [
       "{'loss': [0.35751691460609436,\n",
       "  0.3357604742050171,\n",
       "  0.3292367160320282,\n",
       "  0.32520443201065063,\n",
       "  0.3200916349887848,\n",
       "  0.3189746141433716,\n",
       "  0.3155733048915863,\n",
       "  0.3128940165042877,\n",
       "  0.3104221522808075,\n",
       "  0.30806323885917664,\n",
       "  0.3049296438694,\n",
       "  0.3016565144062042,\n",
       "  0.29995280504226685,\n",
       "  0.29892078042030334,\n",
       "  0.2964015603065491,\n",
       "  0.29468852281570435,\n",
       "  0.29376232624053955,\n",
       "  0.29210710525512695,\n",
       "  0.2901875078678131,\n",
       "  0.29032114148139954,\n",
       "  0.28690263628959656,\n",
       "  0.28662657737731934,\n",
       "  0.2846047282218933],\n",
       " 'mae': [0.35751691460609436,\n",
       "  0.3357604742050171,\n",
       "  0.3292367160320282,\n",
       "  0.32520443201065063,\n",
       "  0.3200916349887848,\n",
       "  0.3189746141433716,\n",
       "  0.3155733048915863,\n",
       "  0.3128940165042877,\n",
       "  0.3104221522808075,\n",
       "  0.30806323885917664,\n",
       "  0.3049296438694,\n",
       "  0.3016565144062042,\n",
       "  0.29995280504226685,\n",
       "  0.29892078042030334,\n",
       "  0.2964015603065491,\n",
       "  0.29468852281570435,\n",
       "  0.29376232624053955,\n",
       "  0.29210710525512695,\n",
       "  0.2901875078678131,\n",
       "  0.29032114148139954,\n",
       "  0.28690263628959656,\n",
       "  0.28662657737731934,\n",
       "  0.2846047282218933],\n",
       " 'val_loss': [0.357359379529953,\n",
       "  0.3383375406265259,\n",
       "  0.33203259110450745,\n",
       "  0.33905214071273804,\n",
       "  0.3291107416152954,\n",
       "  0.3286338150501251,\n",
       "  0.3323936462402344,\n",
       "  0.3221691846847534,\n",
       "  0.3253430426120758,\n",
       "  0.31616899371147156,\n",
       "  0.32177871465682983,\n",
       "  0.31136852502822876,\n",
       "  0.3175746500492096,\n",
       "  0.31291088461875916,\n",
       "  0.30941876769065857,\n",
       "  0.30887991189956665,\n",
       "  0.3074256181716919,\n",
       "  0.3241104185581207,\n",
       "  0.3047306537628174,\n",
       "  0.30279740691185,\n",
       "  0.30668652057647705,\n",
       "  0.3051833510398865,\n",
       "  0.30391165614128113],\n",
       " 'val_mae': [0.357359379529953,\n",
       "  0.3383375406265259,\n",
       "  0.33203259110450745,\n",
       "  0.33905214071273804,\n",
       "  0.3291107416152954,\n",
       "  0.3286338150501251,\n",
       "  0.3323936462402344,\n",
       "  0.3221691846847534,\n",
       "  0.3253430426120758,\n",
       "  0.31616899371147156,\n",
       "  0.32177871465682983,\n",
       "  0.31136852502822876,\n",
       "  0.3175746500492096,\n",
       "  0.31291088461875916,\n",
       "  0.30941876769065857,\n",
       "  0.30887991189956665,\n",
       "  0.3074256181716919,\n",
       "  0.3241104185581207,\n",
       "  0.3047306537628174,\n",
       "  0.30279740691185,\n",
       "  0.30668652057647705,\n",
       "  0.3051833510398865,\n",
       "  0.30391165614128113]}"
      ]
     },
     "execution_count": 29,
     "metadata": {},
     "output_type": "execute_result"
    }
   ],
   "source": [
    "history.history"
   ]
  },
  {
   "cell_type": "code",
   "execution_count": 30,
   "id": "97512f8e-251b-4f0b-bb2a-c0389d6f386b",
   "metadata": {},
   "outputs": [],
   "source": [
    "import matplotlib.pyplot as plt "
   ]
  },
  {
   "cell_type": "code",
   "execution_count": 31,
   "id": "8651e857-1bb1-4e48-b522-302764043a43",
   "metadata": {},
   "outputs": [],
   "source": [
    "%matplotlib inline "
   ]
  },
  {
   "cell_type": "code",
   "execution_count": 32,
   "id": "d408798c-b196-43af-ac24-3c327d2a002c",
   "metadata": {},
   "outputs": [
    {
     "data": {
      "text/plain": [
       "[<matplotlib.lines.Line2D at 0x2c56bb1f740>]"
      ]
     },
     "execution_count": 32,
     "metadata": {},
     "output_type": "execute_result"
    },
    {
     "data": {
      "image/png": "[encoded data removed]",
      "text/plain": [
       "<Figure size 640x480 with 1 Axes>"
      ]
     },
     "metadata": {},
     "output_type": "display_data"
    }
   ],
   "source": [
    "plt.plot(history.history['loss'],label=\"loss\")\n"
   ]
  },
  {
   "cell_type": "code",
   "execution_count": 33,
   "id": "899744da-5b9a-44c1-a683-7f14d0336d7f",
   "metadata": {},
   "outputs": [
    {
     "data": {
      "text/plain": [
       "[<matplotlib.lines.Line2D at 0x2c56e72fa10>]"
      ]
     },
     "execution_count": 33,
     "metadata": {},
     "output_type": "execute_result"
    },
    {
     "data": {
      "image/png": "[encoded data removed]",
      "text/plain": [
       "<Figure size 640x480 with 1 Axes>"
      ]
     },
     "metadata": {},
     "output_type": "display_data"
    }
   ],
   "source": [
    "plt.plot(history.history['mae'],label=\"accuracy\")"
   ]
  },
  {
   "cell_type": "code",
   "execution_count": 34,
   "id": "976c9e09-6649-4770-965a-79e23227d483",
   "metadata": {},
   "outputs": [
    {
     "data": {
      "text/plain": [
       "[<matplotlib.lines.Line2D at 0x2c56bb8de50>]"
      ]
     },
     "execution_count": 34,
     "metadata": {},
     "output_type": "execute_result"
    },
    {
     "data": {
      "image/png": "[encoded data removed]",
      "text/plain": [
       "<Figure size 640x480 with 1 Axes>"
      ]
     },
     "metadata": {},
     "output_type": "display_data"
    }
   ],
   "source": [
    "plt.plot(history.history['val_loss'],label=\"accuracy\")"
   ]
  },
  {
   "cell_type": "code",
   "execution_count": 35,
   "id": "f87eb962-d94f-442c-815b-763c8bd38880",
   "metadata": {},
   "outputs": [
    {
     "data": {
      "text/plain": [
       "[<matplotlib.lines.Line2D at 0x2c56bc30b60>]"
      ]
     },
     "execution_count": 35,
     "metadata": {},
     "output_type": "execute_result"
    },
    {
     "data": {
      "image/png": "[encoded data removed]",
      "text/plain": [
       "<Figure size 640x480 with 1 Axes>"
      ]
     },
     "metadata": {},
     "output_type": "display_data"
    }
   ],
   "source": [
    "plt.plot(history.history['val_mae'],label=\"accuracy\")"
   ]
  },
  {
   "cell_type": "code",
   "execution_count": null,
   "id": "e6d43361-1164-440b-9724-400891fd9c47",
   "metadata": {},
   "outputs": [],
   "source": []
  }
 ],
 "metadata": {
  "kernelspec": {
   "display_name": "Python 3 (ipykernel)",
   "language": "python",
   "name": "python3"
  },
  "language_info": {
   "codemirror_mode": {
    "name": "ipython",
    "version": 3
   },
   "file_extension": ".py",
   "mimetype": "text/x-python",
   "name": "python",
   "nbconvert_exporter": "python",
   "pygments_lexer": "ipython3",
   "version": "3.12.4"
  }
 },
 "nbformat": 4,
 "nbformat_minor": 5
}
