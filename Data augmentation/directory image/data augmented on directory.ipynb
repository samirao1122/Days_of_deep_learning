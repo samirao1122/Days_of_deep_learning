{
 "cells": [
  {
   "cell_type": "code",
   "execution_count": 1,
   "id": "0e41f542-56fb-46cc-9f18-97aea7f97104",
   "metadata": {},
   "outputs": [],
   "source": [
    "batch_Size=16\n"
   ]
  },
  {
   "cell_type": "code",
   "execution_count": 1,
   "id": "17e49939-9a56-4739-9597-7d9c2dd985c8",
   "metadata": {},
   "outputs": [],
   "source": [
    "from tensorflow.keras.preprocessing.image import ImageDataGenerator"
   ]
  },
  {
   "cell_type": "markdown",
   "id": "b63b9c7c-6f4f-44aa-bb53-fbe0126a422a",
   "metadata": {},
   "source": [
    " ## training data augmnted but not stored "
   ]
  },
  {
   "cell_type": "code",
   "execution_count": 3,
   "id": "819116c3-31e6-4921-a4f7-1876c5ee57f1",
   "metadata": {},
   "outputs": [],
   "source": [
    "train_datagen=ImageDataGenerator(\n",
    "    rescale=1./255,\n",
    "    shear_range=0.2,\n",
    "    zoom_range=0.2,\n",
    "    horizontal_flip=True\n",
    ")"
   ]
  },
  {
   "cell_type": "code",
   "execution_count": 4,
   "id": "32ce68b7-63c7-4c30-a73a-8c920e34bd0f",
   "metadata": {},
   "outputs": [],
   "source": [
    "test_datagen=ImageDataGenerator(rescale=1./255)"
   ]
  },
  {
   "cell_type": "code",
   "execution_count": 5,
   "id": "64a100fb-8699-41f4-a5b5-d8ec3b42e22c",
   "metadata": {},
   "outputs": [
    {
     "name": "stdout",
     "output_type": "stream",
     "text": [
      "Found 20000 images belonging to 2 classes.\n"
     ]
    }
   ],
   "source": [
    "train_generator=train_datagen.flow_from_directory(directory=r\"E:\\Dogs cat dataset\\train\",\n",
    "        target_size=(200,200),\n",
    "        batch_size=batch_Size ,\n",
    "                                                      \n",
    "        class_mode=\"binary\"                                          \n",
    "                                                  \n",
    "                                                  \n",
    "                                                 )"
   ]
  },
  {
   "cell_type": "markdown",
   "id": "b95cd991-7b0c-4764-b3fa-233d4ca88fc8",
   "metadata": {},
   "source": [
    " ## testing data augmnted but not stored "
   ]
  },
  {
   "cell_type": "code",
   "execution_count": 6,
   "id": "056e2cb1-628a-494a-8800-bbfb9685792f",
   "metadata": {},
   "outputs": [
    {
     "name": "stdout",
     "output_type": "stream",
     "text": [
      "Found 5000 images belonging to 2 classes.\n"
     ]
    }
   ],
   "source": [
    "validation_generator=test_datagen.flow_from_directory(\n",
    "    directory=r\"E:\\Dogs cat dataset\\test\",\n",
    "    batch_size=batch_Size,\n",
    "    class_mode=\"binary\"\n",
    ")"
   ]
  },
  {
   "cell_type": "code",
   "execution_count": 4,
   "id": "1e5e3f36-eeb9-46c7-85bd-b70fc0d0b420",
   "metadata": {},
   "outputs": [],
   "source": [
    "datagen=ImageDataGenerator(\n",
    "      rotation_range=30,       # Rotate image randomly by 30 degrees\n",
    "    width_shift_range=0.2,   # Shift width by 20%\n",
    "    height_shift_range=0.2,  # Shift height by 20%\n",
    "    shear_range=0.2,         # Shear transformation\n",
    "    zoom_range=0.2,          # Zoom in/out by 20%\n",
    "    horizontal_flip=True,    # Flip image horizontally\n",
    "    fill_mode='constant' \n",
    ")"
   ]
  },
  {
   "cell_type": "code",
   "execution_count": 5,
   "id": "256b4839-6e3a-4a52-94e4-e0892cf6be42",
   "metadata": {},
   "outputs": [],
   "source": [
    "output_directory=r\"C:\\Users\\wwrao\\Documents\\deep learning\\Data augmentation\\image augmentated\""
   ]
  },
  {
   "cell_type": "code",
   "execution_count": 6,
   "id": "b6edfef8-03d4-4a2a-9ddd-bf36bb5d92d3",
   "metadata": {},
   "outputs": [
    {
     "name": "stdout",
     "output_type": "stream",
     "text": [
      "Found 20000 images belonging to 2 classes.\n"
     ]
    }
   ],
   "source": [
    "i=0\n",
    "for data in datagen.flow_from_directory(\n",
    "    directory=r\"E:\\Dogs cat dataset\\train\",\n",
    "    batch_size=2,\n",
    "    save_to_dir=output_directory,\n",
    "    save_prefix=\"aug\",\n",
    "    save_format=\"png\",):\n",
    "\n",
    "    i=i+1\n",
    "    if i==20:\n",
    "        break\n",
    "    \n",
    "    \n",
    "\n"
   ]
  },
  {
   "cell_type": "code",
   "execution_count": null,
   "id": "5936da68-2046-40e2-8a2d-1cd4734690a2",
   "metadata": {},
   "outputs": [],
   "source": []
  },
  {
   "cell_type": "code",
   "execution_count": null,
   "id": "e7f8f00a-19ee-4b53-91ee-3dae546b2499",
   "metadata": {},
   "outputs": [],
   "source": []
  }
 ],
 "metadata": {
  "kernelspec": {
   "display_name": "Python 3 (ipykernel)",
   "language": "python",
   "name": "python3"
  },
  "language_info": {
   "codemirror_mode": {
    "name": "ipython",
    "version": 3
   },
   "file_extension": ".py",
   "mimetype": "text/x-python",
   "name": "python",
   "nbconvert_exporter": "python",
   "pygments_lexer": "ipython3",
   "version": "3.12.4"
  }
 },
 "nbformat": 4,
 "nbformat_minor": 5
}
